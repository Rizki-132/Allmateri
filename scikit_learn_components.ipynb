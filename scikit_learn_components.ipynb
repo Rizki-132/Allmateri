{
  "nbformat": 4,
  "nbformat_minor": 0,
  "metadata": {
    "colab": {
      "provenance": [],
      "include_colab_link": true
    },
    "kernelspec": {
      "name": "python3",
      "display_name": "Python 3"
    },
    "language_info": {
      "name": "python"
    }
  },
  "cells": [
    {
      "cell_type": "markdown",
      "metadata": {
        "id": "view-in-github",
        "colab_type": "text"
      },
      "source": [
        "<a href=\"https://colab.research.google.com/github/Rizki-132/Allmateri/blob/main/scikit_learn_components.ipynb\" target=\"_parent\"><img src=\"https://colab.research.google.com/assets/colab-badge.svg\" alt=\"Open In Colab\"/></a>"
      ]
    },
    {
      "cell_type": "markdown",
      "metadata": {
        "id": "av2VSOnU5tVp"
      },
      "source": [
        "# Models\n"
      ]
    },
    {
      "cell_type": "markdown",
      "metadata": {
        "id": "dNrFLMiS58kx"
      },
      "source": [
        "### Estimator\n",
        "* machine learning models in scikit-learn.\n",
        "* functions: fit and predict."
      ]
    },
    {
      "cell_type": "code",
      "metadata": {
        "id": "QSVzeJyW5YGf"
      },
      "source": [
        "from sklearn.datasets import make_regression\n",
        "from sklearn.linear_model import LinearRegression"
      ],
      "execution_count": null,
      "outputs": []
    },
    {
      "cell_type": "code",
      "metadata": {
        "colab": {
          "base_uri": "https://localhost:8080/",
          "height": 265
        },
        "id": "tfbfJ6Sp6a80",
        "outputId": "cd193a75-8a23-4b76-c315-3a7f608fc9ba"
      },
      "source": [
        "import matplotlib.pyplot as plt\n",
        "\n",
        "X, y = make_regression(n_samples=20, n_features=1, random_state=42, noise=3.0)\n",
        "\n",
        "plt.plot(X, y, 'b.')\n",
        "plt.show()"
      ],
      "execution_count": null,
      "outputs": [
        {
          "output_type": "display_data",
          "data": {
            "image/png": "[encoded data removed]",
            "text/plain": [
              "<Figure size 432x288 with 1 Axes>"
            ]
          },
          "metadata": {
            "tags": [],
            "needs_background": "light"
          }
        }
      ]
    },
    {
      "cell_type": "code",
      "metadata": {
        "id": "zwdfKqZ86ad5"
      },
      "source": [
        "regression = LinearRegression()"
      ],
      "execution_count": null,
      "outputs": []
    },
    {
      "cell_type": "code",
      "metadata": {
        "colab": {
          "base_uri": "https://localhost:8080/"
        },
        "id": "TtwJhiu66uqq",
        "outputId": "6cd21a96-5da0-4d09-f1f8-e9ebd556af78"
      },
      "source": [
        "regression.fit(X, y)"
      ],
      "execution_count": null,
      "outputs": [
        {
          "output_type": "execute_result",
          "data": {
            "text/plain": [
              "LinearRegression(copy_X=True, fit_intercept=True, n_jobs=None, normalize=False)"
            ]
          },
          "metadata": {
            "tags": []
          },
          "execution_count": 29
        }
      ]
    },
    {
      "cell_type": "code",
      "metadata": {
        "id": "t8-DthOX65_i"
      },
      "source": [
        "predictions = regression.predict(X)"
      ],
      "execution_count": null,
      "outputs": []
    },
    {
      "cell_type": "code",
      "metadata": {
        "colab": {
          "base_uri": "https://localhost:8080/"
        },
        "id": "l-2Vz9Oha4jx",
        "outputId": "ffd843d8-cd20-402b-f89e-6bd2ae6c8e11"
      },
      "source": [
        "regression.score(X, y)"
      ],
      "execution_count": null,
      "outputs": [
        {
          "output_type": "execute_result",
          "data": {
            "text/plain": [
              "0.9747407944474008"
            ]
          },
          "metadata": {
            "tags": []
          },
          "execution_count": 31
        }
      ]
    },
    {
      "cell_type": "code",
      "metadata": {
        "colab": {
          "base_uri": "https://localhost:8080/",
          "height": 268
        },
        "id": "Cj0pIcMM7BKM",
        "outputId": "f3d26f47-9fff-423e-a296-f62fc3db48e4"
      },
      "source": [
        "plt.plot(X, y, 'b.')\n",
        "plt.plot(X, predictions, 'r-')\n",
        "plt.show()"
      ],
      "execution_count": null,
      "outputs": [
        {
          "output_type": "display_data",
          "data": {
            "image/png": "[encoded data removed]",
            "text/plain": [
              "<Figure size 432x288 with 1 Axes>"
            ]
          },
          "metadata": {
            "tags": [],
            "needs_background": "light"
          }
        }
      ]
    },
    {
      "cell_type": "markdown",
      "metadata": {
        "id": "I0q8Q8U88y3D"
      },
      "source": [
        "### Transformers"
      ]
    },
    {
      "cell_type": "markdown",
      "metadata": {
        "id": "BqHjiPmb87Zj"
      },
      "source": [
        "Transformers: preprocessing, feature extraction, imputation, etc."
      ]
    },
    {
      "cell_type": "markdown",
      "metadata": {
        "id": "iM-vYqUf9Knz"
      },
      "source": [
        "Method: fit and transform\n",
        "\n",
        "Shorthand Method: fit_transform"
      ]
    },
    {
      "cell_type": "code",
      "metadata": {
        "colab": {
          "base_uri": "https://localhost:8080/"
        },
        "id": "xZsotdVr7KQ3",
        "outputId": "879c2691-d038-486e-b634-5c1ae0f2396b"
      },
      "source": [
        "X"
      ],
      "execution_count": null,
      "outputs": [
        {
          "output_type": "execute_result",
          "data": {
            "text/plain": [
              "array([[ 0.64768854],\n",
              "       [ 0.49671415],\n",
              "       [-0.23413696],\n",
              "       [-1.72491783],\n",
              "       [-0.90802408],\n",
              "       [-1.4123037 ],\n",
              "       [-0.46341769],\n",
              "       [-1.01283112],\n",
              "       [-0.23415337],\n",
              "       [ 0.24196227],\n",
              "       [-0.46947439],\n",
              "       [ 1.57921282],\n",
              "       [ 0.76743473],\n",
              "       [-0.56228753],\n",
              "       [ 1.52302986],\n",
              "       [-1.91328024],\n",
              "       [ 0.54256004],\n",
              "       [-0.1382643 ],\n",
              "       [-0.46572975],\n",
              "       [ 0.31424733]])"
            ]
          },
          "metadata": {
            "tags": []
          },
          "execution_count": 9
        }
      ]
    },
    {
      "cell_type": "markdown",
      "metadata": {
        "id": "2eMGYGB297eb"
      },
      "source": [
        "MinMaxScaler: scale features between zero and one. Minimum value will be 0 and maximum value will be one."
      ]
    },
    {
      "cell_type": "code",
      "metadata": {
        "colab": {
          "base_uri": "https://localhost:8080/"
        },
        "id": "wHKm5RcN9x4G",
        "outputId": "d6cc5c7b-d191-49ae-c21b-87f3b67e5780"
      },
      "source": [
        "from sklearn.preprocessing import MinMaxScaler\n",
        "\n",
        "transformer = MinMaxScaler()\n",
        "transformer.fit(X)"
      ],
      "execution_count": null,
      "outputs": [
        {
          "output_type": "execute_result",
          "data": {
            "text/plain": [
              "MinMaxScaler(copy=True, feature_range=(0, 1))"
            ]
          },
          "metadata": {
            "tags": []
          },
          "execution_count": 10
        }
      ]
    },
    {
      "cell_type": "code",
      "metadata": {
        "colab": {
          "base_uri": "https://localhost:8080/"
        },
        "id": "qmSkzi-Y-Uwi",
        "outputId": "375a39be-7b3a-46d9-e81a-9f5c5fd5a7dd"
      },
      "source": [
        "transformer.data_min_"
      ],
      "execution_count": null,
      "outputs": [
        {
          "output_type": "execute_result",
          "data": {
            "text/plain": [
              "array([-1.91328024])"
            ]
          },
          "metadata": {
            "tags": []
          },
          "execution_count": 11
        }
      ]
    },
    {
      "cell_type": "code",
      "metadata": {
        "colab": {
          "base_uri": "https://localhost:8080/"
        },
        "id": "LCAy2zvq-aLJ",
        "outputId": "0154ecfe-fae6-47ef-ec39-4c6cbdb418a8"
      },
      "source": [
        "transformer.data_max_"
      ],
      "execution_count": null,
      "outputs": [
        {
          "output_type": "execute_result",
          "data": {
            "text/plain": [
              "array([1.57921282])"
            ]
          },
          "metadata": {
            "tags": []
          },
          "execution_count": 13
        }
      ]
    },
    {
      "cell_type": "code",
      "metadata": {
        "colab": {
          "base_uri": "https://localhost:8080/"
        },
        "id": "hLa-qYJK-dSH",
        "outputId": "87ba2d09-d6a9-4d37-f834-0a78b9f1c890"
      },
      "source": [
        "X_scaled = transformer.transform(X)\n",
        "X_scaled"
      ],
      "execution_count": null,
      "outputs": [
        {
          "output_type": "execute_result",
          "data": {
            "text/plain": [
              "array([[0.73327813],\n",
              "       [0.69004987],\n",
              "       [0.48078644],\n",
              "       [0.05393351],\n",
              "       [0.2878334 ],\n",
              "       [0.14344382],\n",
              "       [0.41513685],\n",
              "       [0.25782417],\n",
              "       [0.48078173],\n",
              "       [0.61710717],\n",
              "       [0.41340264],\n",
              "       [1.        ],\n",
              "       [0.76756487],\n",
              "       [0.3868276 ],\n",
              "       [0.98391322],\n",
              "       [0.        ],\n",
              "       [0.70317686],\n",
              "       [0.5082375 ],\n",
              "       [0.41447484],\n",
              "       [0.63780444]])"
            ]
          },
          "metadata": {
            "tags": []
          },
          "execution_count": 14
        }
      ]
    },
    {
      "cell_type": "markdown",
      "metadata": {
        "id": "VSM2FNnO_INR"
      },
      "source": [
        "### Pipelines"
      ]
    },
    {
      "cell_type": "markdown",
      "metadata": {
        "id": "ePWd2L6VUa-L"
      },
      "source": [
        "Series of transformers, often with an estimator at the end."
      ]
    },
    {
      "cell_type": "code",
      "metadata": {
        "colab": {
          "base_uri": "https://localhost:8080/",
          "height": 265
        },
        "id": "m9NOoksg-p9I",
        "outputId": "316786ab-ffe1-4017-b6bd-f6ac75091ce6"
      },
      "source": [
        "from sklearn.pipeline import Pipeline\n",
        "\n",
        "X, y = make_regression(n_samples=20, n_features=1, random_state=10, noise=6.0)\n",
        "\n",
        "pipeline = Pipeline([\n",
        "  ('scale', MinMaxScaler()),\n",
        "  ('regression', LinearRegression())\n",
        "])\n",
        "\n",
        "pipeline.fit(X, y)\n",
        "\n",
        "predictions = pipeline.predict(X)\n",
        "\n",
        "plt.plot(X, y, 'b.')\n",
        "plt.plot(X, predictions, 'r-')\n",
        "plt.show()"
      ],
      "execution_count": null,
      "outputs": [
        {
          "output_type": "display_data",
          "data": {
            "image/png": "[encoded data removed]",
            "text/plain": [
              "<Figure size 432x288 with 1 Axes>"
            ]
          },
          "metadata": {
            "tags": [],
            "needs_background": "light"
          }
        }
      ]
    },
    {
      "cell_type": "markdown",
      "metadata": {
        "id": "NCJjjRUKZNyI"
      },
      "source": [
        "### Metrics"
      ]
    },
    {
      "cell_type": "markdown",
      "metadata": {
        "id": "2jCIWKFEZtQa"
      },
      "source": [
        "MSE: find mean squared error between target values and predicted values."
      ]
    },
    {
      "cell_type": "code",
      "metadata": {
        "id": "u5OJwlvxWUHS"
      },
      "source": [
        "from sklearn.metrics import mean_squared_error"
      ],
      "execution_count": null,
      "outputs": []
    },
    {
      "cell_type": "code",
      "metadata": {
        "colab": {
          "base_uri": "https://localhost:8080/"
        },
        "id": "0mdapFE8Z_jt",
        "outputId": "0692e999-1d27-4315-f624-d12a840b8e98"
      },
      "source": [
        "mean_squared_error(y, predictions)"
      ],
      "execution_count": null,
      "outputs": [
        {
          "output_type": "execute_result",
          "data": {
            "text/plain": [
              "33.579345293855276"
            ]
          },
          "metadata": {
            "tags": []
          },
          "execution_count": 26
        }
      ]
    },
    {
      "cell_type": "code",
      "metadata": {
        "colab": {
          "base_uri": "https://localhost:8080/"
        },
        "id": "fyQhyp59aNDT",
        "outputId": "ef9dd789-b949-4b2d-8d0f-b574543f79cc"
      },
      "source": [
        "pipeline.score(X, y) # R2 Score, scores closer to 1.0 are better"
      ],
      "execution_count": null,
      "outputs": [
        {
          "output_type": "execute_result",
          "data": {
            "text/plain": [
              "0.9747407944474008"
            ]
          },
          "metadata": {
            "tags": []
          },
          "execution_count": 27
        }
      ]
    },
    {
      "cell_type": "code",
      "metadata": {
        "id": "GXDqyew1ak0u"
      },
      "source": [],
      "execution_count": null,
      "outputs": []
    }
  ]
}