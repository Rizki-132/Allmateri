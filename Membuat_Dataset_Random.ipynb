{
  "nbformat": 4,
  "nbformat_minor": 0,
  "metadata": {
    "colab": {
      "provenance": [],
      "authorship_tag": "ABX9TyN/QF2tey+X6rRmTqIeUBkQ",
      "include_colab_link": true
    },
    "kernelspec": {
      "name": "python3",
      "display_name": "Python 3"
    },
    "language_info": {
      "name": "python"
    }
  },
  "cells": [
    {
      "cell_type": "markdown",
      "metadata": {
        "id": "view-in-github",
        "colab_type": "text"
      },
      "source": [
        "<a href=\"https://colab.research.google.com/github/Rizki-132/Allmateri/blob/main/Membuat_Dataset_Random.ipynb\" target=\"_parent\"><img src=\"https://colab.research.google.com/assets/colab-badge.svg\" alt=\"Open In Colab\"/></a>"
      ]
    },
    {
      "cell_type": "code",
      "execution_count": 2,
      "metadata": {
        "id": "WTwBft3kBYBx"
      },
      "outputs": [],
      "source": [
        "import pandas as pd\n",
        "import numpy as np\n",
        "import random"
      ]
    },
    {
      "cell_type": "code",
      "source": [
        "#Nama2 Contoh\n",
        "names = [\"Ahmad\", \"Budi\", \"Citra\", \"Dewi\", \"Eka\", \"Fajar\", \"Gina\", \"Hadi\", \"Ika\", \"Joko\",\n",
        "         \"Kiki\", \"Lina\", \"Mira\", \"Nina\", \"Omar\", \"Putu\", \"Qori\", \"Rina\", \"Siti\", \"Tono\",\n",
        "         \"Umar\", \"Vina\", \"Wawan\", \"Xena\", \"Yudi\", \"Zara\", \"Bella\", \"Dina\", \"Evi\", \"Fikri\"]\n",
        "\n",
        "#Jenis Pekerjaan Contoh\n",
        "jobs = [\"Buruh\", \"Petani\", \"Guru\", \"Ibu Rumah Tangga\", \"Pedagang\", \"Sopir\", \"PNS\", \"Pengangguran\", \"Dokter\", \"Satpam\"]\n",
        "\n",
        "#Jenis Kelamin\n",
        "genders = [\"Laki-laki\", \"Perempuan\"]\n",
        "\n",
        "#Status Perkawinan\n",
        "marital_status = [\"Menikah\", \"Janda\", \"Duda\", \"Belum Menikah\"]\n",
        "\n",
        "#fungsi untuk menampillkan Nama Acak\n",
        "def random_name():\n",
        "    return random.choice(names) + ' ' + random.choice(names)\n",
        "\n",
        "#fungsi untuk menhasilkan data simulasi\n",
        "def generate_data(num_entries):\n",
        "    data = {\n",
        "        \"nama\": [random_name() for _ in range(num_entries)],\n",
        "        \"umur\": [random.randint(18, 65) for _ in range(num_entries)],\n",
        "        \"jenis pekerjaan\": [random.choice(jobs) for _ in range(num_entries)],\n",
        "        \"jumlah penghasilan\": [random.randint(0, 7000000) for _ in range(num_entries)],\n",
        "        \"jenis kelamin\": [random.choice(genders) for _ in range(num_entries)],\n",
        "        \"jumlah keluarga (SD)\": [random.randint(0, 3) for _ in range(num_entries)],\n",
        "        \"jumlah keluarga (SMP)\": [random.randint(0, 3) for _ in range(num_entries)],\n",
        "        \"jumlah keluarga (SMA)\": [random.randint(0, 3) for _ in range(num_entries)],\n",
        "        \"status perkawinan\": [random.choice(marital_status) for _ in range(num_entries)],\n",
        "    }\n",
        "    return pd.DataFrame(data)\n",
        "\n",
        "#Generate the data\n",
        "df = generate_data(250)\n",
        "\n",
        "# Save to CSV\n",
        "df.to_csv('pkh_data_250.csv', index=False)\n",
        "\n",
        "print(\"Data has been saved to 'pkh_data_250.csv'\")"
      ],
      "metadata": {
        "colab": {
          "base_uri": "https://localhost:8080/"
        },
        "id": "YYeh4SVuB_Ma",
        "outputId": "04c27498-8b89-4ca6-daaa-93ef0f46fa6d"
      },
      "execution_count": 5,
      "outputs": [
        {
          "output_type": "stream",
          "name": "stdout",
          "text": [
            "Data has been saved to 'pkh_data_250.csv'\n"
          ]
        }
      ]
    },
    {
      "cell_type": "code",
      "source": [],
      "metadata": {
        "id": "PNOpUaGLEyKb"
      },
      "execution_count": null,
      "outputs": []
    }
  ]
}