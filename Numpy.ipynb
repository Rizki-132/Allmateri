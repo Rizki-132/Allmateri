{
  "nbformat": 4,
  "nbformat_minor": 0,
  "metadata": {
    "colab": {
      "provenance": [],
      "include_colab_link": true
    },
    "kernelspec": {
      "name": "python3",
      "display_name": "Python 3"
    },
    "language_info": {
      "name": "python"
    }
  },
  "cells": [
    {
      "cell_type": "markdown",
      "metadata": {
        "id": "view-in-github",
        "colab_type": "text"
      },
      "source": [
        "<a href=\"https://colab.research.google.com/github/Rizki-132/Allmateri/blob/main/Numpy.ipynb\" target=\"_parent\"><img src=\"https://colab.research.google.com/assets/colab-badge.svg\" alt=\"Open In Colab\"/></a>"
      ]
    },
    {
      "cell_type": "markdown",
      "metadata": {
        "id": "GwM6GeXuCPyQ"
      },
      "source": [
        "# Numpy"
      ]
    },
    {
      "cell_type": "code",
      "metadata": {
        "id": "-3S4zjxm_bdr"
      },
      "source": [
        "import numpy as np"
      ],
      "execution_count": null,
      "outputs": []
    },
    {
      "cell_type": "markdown",
      "metadata": {
        "id": "m5TGp8ioDEKl"
      },
      "source": [
        "Array dengan rank 1 dan panjang 3."
      ]
    },
    {
      "cell_type": "code",
      "metadata": {
        "colab": {
          "base_uri": "https://localhost:8080/"
        },
        "id": "csI1kmEaDF8U",
        "outputId": "9c6867ea-56d8-42a4-9091-9536d01600a5"
      },
      "source": [
        "[1, 2, 3]"
      ],
      "execution_count": null,
      "outputs": [
        {
          "output_type": "execute_result",
          "data": {
            "text/plain": [
              "[1, 2, 3]"
            ]
          },
          "metadata": {
            "tags": []
          },
          "execution_count": 2
        }
      ]
    },
    {
      "cell_type": "markdown",
      "metadata": {
        "id": "i9FRHh1iDNts"
      },
      "source": [
        "Array dengan rank 2 dan panjang 3."
      ]
    },
    {
      "cell_type": "code",
      "metadata": {
        "colab": {
          "base_uri": "https://localhost:8080/"
        },
        "id": "CdXZmmmGDcBv",
        "outputId": "b40809ff-136c-4f34-d65e-5bb95260d997"
      },
      "source": [
        "[[1, 2, 3], [4, 5, 6]]"
      ],
      "execution_count": null,
      "outputs": [
        {
          "output_type": "execute_result",
          "data": {
            "text/plain": [
              "[[1, 2, 3], [4, 5, 6]]"
            ]
          },
          "metadata": {
            "tags": []
          },
          "execution_count": 3
        }
      ]
    },
    {
      "cell_type": "code",
      "metadata": {
        "colab": {
          "base_uri": "https://localhost:8080/"
        },
        "id": "S9k4pBZ3C2vE",
        "outputId": "24b7a12d-58a3-44bb-e22d-64181c18894c"
      },
      "source": [
        "a = np.array([1, 2, 3])\n",
        "b = np.array([(1, 2, 3), (4, 5, 6)])\n",
        "\n",
        "print(a)\n",
        "print(b)"
      ],
      "execution_count": null,
      "outputs": [
        {
          "output_type": "stream",
          "text": [
            "[1 2 3]\n",
            "[[1 2 3]\n",
            " [4 5 6]]\n"
          ],
          "name": "stdout"
        }
      ]
    },
    {
      "cell_type": "markdown",
      "metadata": {
        "id": "-fDneEZwEG1f"
      },
      "source": [
        "**ndarray**: nama class untuk sebuah numpy array."
      ]
    },
    {
      "cell_type": "code",
      "metadata": {
        "id": "4OhHbbvHD09N"
      },
      "source": [
        "# Bakal menghasilkan error karena parameter untuk np.array\n",
        "# harus beruapa array\n",
        "# a = np.array(1, 2, 3)"
      ],
      "execution_count": null,
      "outputs": []
    },
    {
      "cell_type": "markdown",
      "metadata": {
        "id": "tz6qbuUDEcav"
      },
      "source": [
        "---"
      ]
    },
    {
      "cell_type": "markdown",
      "metadata": {
        "id": "21rShM4fEeE0"
      },
      "source": [
        "# Properties\n",
        "* **ndarray.ndim**: dimensi (rank) dari sebuah numpy array.\n",
        "* **ndarray.shape**: baris dan kolum dari sebuah numpy array.\n",
        "* **ndarray.size**: jumlah elemen di dalam numpy array.\n",
        "* **ndarray.dtype**: tipe data dari elemen yang ada di numpy array.\n",
        "* **ndarray.itemsize**: ukuran elemen (bytes) yang ada di numpy array.\n",
        "* **ndarray.data**: buffer untuk menyimpan elemen-elemen di dalam numpy array."
      ]
    },
    {
      "cell_type": "code",
      "metadata": {
        "id": "xW_HZ14eFbsL"
      },
      "source": [
        "a = np.array([1, 2, 3])\n",
        "b = np.array([(1, 2, 3), (4, 5, 6)])"
      ],
      "execution_count": null,
      "outputs": []
    },
    {
      "cell_type": "code",
      "metadata": {
        "colab": {
          "base_uri": "https://localhost:8080/"
        },
        "id": "q1Qiil07FoEZ",
        "outputId": "945e680e-2463-41e4-ab3a-26fd5c658956"
      },
      "source": [
        "print(a.ndim)\n",
        "print(a.shape)\n",
        "print(a.size)\n",
        "print(a.dtype)\n",
        "print(a.itemsize)"
      ],
      "execution_count": null,
      "outputs": [
        {
          "output_type": "stream",
          "text": [
            "1\n",
            "(3,)\n",
            "3\n",
            "int64\n",
            "8\n"
          ],
          "name": "stdout"
        }
      ]
    },
    {
      "cell_type": "code",
      "metadata": {
        "colab": {
          "base_uri": "https://localhost:8080/"
        },
        "id": "lKC1GHGgF43J",
        "outputId": "da895f37-1087-43a4-dc50-c63d54a2d5c0"
      },
      "source": [
        "print(b.ndim)\n",
        "print(b.shape)\n",
        "print(b.size)\n",
        "print(b.dtype)\n",
        "print(b.itemsize)"
      ],
      "execution_count": null,
      "outputs": [
        {
          "output_type": "stream",
          "text": [
            "2\n",
            "(2, 3)\n",
            "6\n",
            "int64\n",
            "8\n"
          ],
          "name": "stdout"
        }
      ]
    },
    {
      "cell_type": "markdown",
      "metadata": {
        "id": "FdT8nZuKGO3w"
      },
      "source": [
        "---"
      ]
    },
    {
      "cell_type": "markdown",
      "metadata": {
        "id": "255fMHYPGP-x"
      },
      "source": [
        "# Create Numpy Arrays"
      ]
    },
    {
      "cell_type": "markdown",
      "metadata": {
        "id": "Tcilpw_MG-qO"
      },
      "source": [
        "* **np.zeros**: isinya semua 0\n",
        "* **np.ones**: isinya semua 1\n",
        "* **np.arange**: berikan scope dan panjang dari step\n",
        "* **np.linspace**: berikan scope dan jumlah elemen yang diinginkan\n",
        "* **np.random.random**: memberikan angka acak"
      ]
    },
    {
      "cell_type": "code",
      "metadata": {
        "colab": {
          "base_uri": "https://localhost:8080/"
        },
        "id": "_BZ5mrVQF6VD",
        "outputId": "878df5b9-5569-4e81-b647-2b83c5f7c5d8"
      },
      "source": [
        "np.zeros((3, 3))"
      ],
      "execution_count": null,
      "outputs": [
        {
          "output_type": "execute_result",
          "data": {
            "text/plain": [
              "array([[0., 0., 0.],\n",
              "       [0., 0., 0.],\n",
              "       [0., 0., 0.]])"
            ]
          },
          "metadata": {
            "tags": []
          },
          "execution_count": 9
        }
      ]
    },
    {
      "cell_type": "code",
      "metadata": {
        "colab": {
          "base_uri": "https://localhost:8080/"
        },
        "id": "38oUzgsLHv7C",
        "outputId": "150feef9-83a5-4136-9dae-acc2579e92d5"
      },
      "source": [
        "np.ones((3, 3))"
      ],
      "execution_count": null,
      "outputs": [
        {
          "output_type": "execute_result",
          "data": {
            "text/plain": [
              "array([[1., 1., 1.],\n",
              "       [1., 1., 1.],\n",
              "       [1., 1., 1.]])"
            ]
          },
          "metadata": {
            "tags": []
          },
          "execution_count": 10
        }
      ]
    },
    {
      "cell_type": "code",
      "metadata": {
        "colab": {
          "base_uri": "https://localhost:8080/"
        },
        "id": "gJXj_HbFH27A",
        "outputId": "027668ba-9344-4453-d4e6-fc6d83a16664"
      },
      "source": [
        "np.arange(1, 2, 0.2)"
      ],
      "execution_count": null,
      "outputs": [
        {
          "output_type": "execute_result",
          "data": {
            "text/plain": [
              "array([1. , 1.2, 1.4, 1.6, 1.8])"
            ]
          },
          "metadata": {
            "tags": []
          },
          "execution_count": 12
        }
      ]
    },
    {
      "cell_type": "code",
      "metadata": {
        "colab": {
          "base_uri": "https://localhost:8080/"
        },
        "id": "eMOh3jGZH-RF",
        "outputId": "a6f52f18-f1f5-4183-968e-f7c8c3885181"
      },
      "source": [
        "np.linspace(1, 3, 10)"
      ],
      "execution_count": null,
      "outputs": [
        {
          "output_type": "execute_result",
          "data": {
            "text/plain": [
              "array([1.        , 1.22222222, 1.44444444, 1.66666667, 1.88888889,\n",
              "       2.11111111, 2.33333333, 2.55555556, 2.77777778, 3.        ])"
            ]
          },
          "metadata": {
            "tags": []
          },
          "execution_count": 14
        }
      ]
    },
    {
      "cell_type": "code",
      "metadata": {
        "colab": {
          "base_uri": "https://localhost:8080/"
        },
        "id": "H7KIr71LISkb",
        "outputId": "03490111-01d0-40e1-8280-a1f77bbecbd5"
      },
      "source": [
        "np.random.random((2, 3))"
      ],
      "execution_count": null,
      "outputs": [
        {
          "output_type": "execute_result",
          "data": {
            "text/plain": [
              "array([[0.63014662, 0.95003617, 0.30874054],\n",
              "       [0.58230916, 0.25008352, 0.86187682]])"
            ]
          },
          "metadata": {
            "tags": []
          },
          "execution_count": 15
        }
      ]
    },
    {
      "cell_type": "markdown",
      "metadata": {
        "id": "PBxv-oT2IzcE"
      },
      "source": [
        "# Shape and Operation"
      ]
    },
    {
      "cell_type": "markdown",
      "metadata": {
        "id": "6154t7oygiNl"
      },
      "source": [
        "* reshape: mengubah dimensi/shape dari sebuah numpy array.\n",
        "* vstack: stack numpy arrays secara vertikal.\n",
        "* hstack: stack numpy arrays secara horizontal.\n",
        "* vsplit: split numpy arrays secara vertikal.\n",
        "* hsplit: split numpy arrays secara horizontal."
      ]
    },
    {
      "cell_type": "code",
      "metadata": {
        "colab": {
          "base_uri": "https://localhost:8080/"
        },
        "id": "KIjvoHfuhfvD",
        "outputId": "c626d78d-0577-4bdb-f974-701e8bdd9061"
      },
      "source": [
        "a = np.array([(1, 2, 3), (4, 5, 6)])\n",
        "a"
      ],
      "execution_count": null,
      "outputs": [
        {
          "output_type": "execute_result",
          "data": {
            "text/plain": [
              "array([[1, 2, 3],\n",
              "       [4, 5, 6]])"
            ]
          },
          "metadata": {
            "tags": []
          },
          "execution_count": 46
        }
      ]
    },
    {
      "cell_type": "code",
      "metadata": {
        "colab": {
          "base_uri": "https://localhost:8080/"
        },
        "id": "e2FIbFEfhlnJ",
        "outputId": "234c2682-ea7d-4497-f6b4-2669baaa720f"
      },
      "source": [
        "a = a.reshape(3, -1)\n",
        "a"
      ],
      "execution_count": null,
      "outputs": [
        {
          "output_type": "execute_result",
          "data": {
            "text/plain": [
              "array([[1, 2],\n",
              "       [3, 4],\n",
              "       [5, 6]])"
            ]
          },
          "metadata": {
            "tags": []
          },
          "execution_count": 40
        }
      ]
    },
    {
      "cell_type": "code",
      "metadata": {
        "colab": {
          "base_uri": "https://localhost:8080/"
        },
        "id": "Wdlhti_IhyCB",
        "outputId": "bdd977ed-722d-490d-9233-f5db8ed4ebcb"
      },
      "source": [
        "b = np.array([(7, 8), (9, 10)])\n",
        "b"
      ],
      "execution_count": null,
      "outputs": [
        {
          "output_type": "execute_result",
          "data": {
            "text/plain": [
              "array([[ 7,  8],\n",
              "       [ 9, 10]])"
            ]
          },
          "metadata": {
            "tags": []
          },
          "execution_count": 41
        }
      ]
    },
    {
      "cell_type": "code",
      "metadata": {
        "colab": {
          "base_uri": "https://localhost:8080/"
        },
        "id": "VbyCBGj4h7dO",
        "outputId": "98bc3ee5-975b-472b-f587-9a79989269a5"
      },
      "source": [
        "np.vstack((a, b))"
      ],
      "execution_count": null,
      "outputs": [
        {
          "output_type": "execute_result",
          "data": {
            "text/plain": [
              "array([[ 1,  2],\n",
              "       [ 3,  4],\n",
              "       [ 5,  6],\n",
              "       [ 7,  8],\n",
              "       [ 9, 10]])"
            ]
          },
          "metadata": {
            "tags": []
          },
          "execution_count": 42
        }
      ]
    },
    {
      "cell_type": "code",
      "metadata": {
        "colab": {
          "base_uri": "https://localhost:8080/"
        },
        "id": "Oal37QABiGXf",
        "outputId": "ed5c98d7-a895-46cb-f0a4-2ea296713a67"
      },
      "source": [
        "c = np.array([(11, 12, 13), (14, 15, 16)])\n",
        "c"
      ],
      "execution_count": null,
      "outputs": [
        {
          "output_type": "execute_result",
          "data": {
            "text/plain": [
              "array([[11, 12, 13],\n",
              "       [14, 15, 16]])"
            ]
          },
          "metadata": {
            "tags": []
          },
          "execution_count": 43
        }
      ]
    },
    {
      "cell_type": "code",
      "metadata": {
        "colab": {
          "base_uri": "https://localhost:8080/"
        },
        "id": "9t2TDhyEiQUz",
        "outputId": "7fe6d157-ee05-4604-ca95-a195af26fcf8"
      },
      "source": [
        "d = np.hstack((a, c))\n",
        "d"
      ],
      "execution_count": null,
      "outputs": [
        {
          "output_type": "execute_result",
          "data": {
            "text/plain": [
              "array([[ 1,  2,  3, 11, 12, 13],\n",
              "       [ 4,  5,  6, 14, 15, 16]])"
            ]
          },
          "metadata": {
            "tags": []
          },
          "execution_count": 47
        }
      ]
    },
    {
      "cell_type": "code",
      "metadata": {
        "colab": {
          "base_uri": "https://localhost:8080/"
        },
        "id": "J4CrH5OGi2n7",
        "outputId": "58e3d77b-f3ae-4446-b8e1-0d5dda9b584d"
      },
      "source": [
        "d"
      ],
      "execution_count": null,
      "outputs": [
        {
          "output_type": "execute_result",
          "data": {
            "text/plain": [
              "array([[ 1,  2,  3, 11, 12, 13],\n",
              "       [ 4,  5,  6, 14, 15, 16]])"
            ]
          },
          "metadata": {
            "tags": []
          },
          "execution_count": 49
        }
      ]
    },
    {
      "cell_type": "code",
      "metadata": {
        "colab": {
          "base_uri": "https://localhost:8080/"
        },
        "id": "yFlRkdlqiX2b",
        "outputId": "4ea9ea3a-a685-4665-a550-bb040f1aff4b"
      },
      "source": [
        "np.vsplit(d, 2)"
      ],
      "execution_count": null,
      "outputs": [
        {
          "output_type": "execute_result",
          "data": {
            "text/plain": [
              "[array([[ 1,  2,  3, 11, 12, 13]]), array([[ 4,  5,  6, 14, 15, 16]])]"
            ]
          },
          "metadata": {
            "tags": []
          },
          "execution_count": 56
        }
      ]
    },
    {
      "cell_type": "code",
      "metadata": {
        "colab": {
          "base_uri": "https://localhost:8080/"
        },
        "id": "wxeqUpxcixY2",
        "outputId": "ef9b1e57-93d8-4d97-da68-309dd1b71d1b"
      },
      "source": [
        "np.hsplit(d, 3)"
      ],
      "execution_count": null,
      "outputs": [
        {
          "output_type": "execute_result",
          "data": {
            "text/plain": [
              "[array([[1, 2],\n",
              "        [4, 5]]), array([[ 3, 11],\n",
              "        [ 6, 14]]), array([[12, 13],\n",
              "        [15, 16]])]"
            ]
          },
          "metadata": {
            "tags": []
          },
          "execution_count": 51
        }
      ]
    },
    {
      "cell_type": "code",
      "metadata": {
        "colab": {
          "base_uri": "https://localhost:8080/"
        },
        "id": "gXVGFNhkjD9J",
        "outputId": "210e92ff-06e0-4cca-ad35-4c20a24ffd3a"
      },
      "source": [
        "np.hsplit(d, (1, 3)) # split setelah kolum 1 dan kolum 3"
      ],
      "execution_count": null,
      "outputs": [
        {
          "output_type": "execute_result",
          "data": {
            "text/plain": [
              "[array([[1],\n",
              "        [4]]), array([[2, 3],\n",
              "        [5, 6]]), array([[11, 12, 13],\n",
              "        [14, 15, 16]])]"
            ]
          },
          "metadata": {
            "tags": []
          },
          "execution_count": 52
        }
      ]
    },
    {
      "cell_type": "markdown",
      "metadata": {
        "id": "R1YAcW-Ijv9W"
      },
      "source": [
        "# Indexing"
      ]
    },
    {
      "cell_type": "code",
      "metadata": {
        "colab": {
          "base_uri": "https://localhost:8080/"
        },
        "id": "aIHvY5rnmk0F",
        "outputId": "e0a18c45-805f-4629-cebc-d530fcc821f0"
      },
      "source": [
        "data = np.arange(100, 200)\n",
        "data"
      ],
      "execution_count": null,
      "outputs": [
        {
          "output_type": "execute_result",
          "data": {
            "text/plain": [
              "array([100, 101, 102, 103, 104, 105, 106, 107, 108, 109, 110, 111, 112,\n",
              "       113, 114, 115, 116, 117, 118, 119, 120, 121, 122, 123, 124, 125,\n",
              "       126, 127, 128, 129, 130, 131, 132, 133, 134, 135, 136, 137, 138,\n",
              "       139, 140, 141, 142, 143, 144, 145, 146, 147, 148, 149, 150, 151,\n",
              "       152, 153, 154, 155, 156, 157, 158, 159, 160, 161, 162, 163, 164,\n",
              "       165, 166, 167, 168, 169, 170, 171, 172, 173, 174, 175, 176, 177,\n",
              "       178, 179, 180, 181, 182, 183, 184, 185, 186, 187, 188, 189, 190,\n",
              "       191, 192, 193, 194, 195, 196, 197, 198, 199])"
            ]
          },
          "metadata": {
            "tags": []
          },
          "execution_count": 63
        }
      ]
    },
    {
      "cell_type": "code",
      "metadata": {
        "colab": {
          "base_uri": "https://localhost:8080/"
        },
        "id": "gMqRvyW3mrux",
        "outputId": "6b477fc6-973e-4fc9-8b74-adb865eff580"
      },
      "source": [
        "data[0]"
      ],
      "execution_count": null,
      "outputs": [
        {
          "output_type": "execute_result",
          "data": {
            "text/plain": [
              "100"
            ]
          },
          "metadata": {
            "tags": []
          },
          "execution_count": 64
        }
      ]
    },
    {
      "cell_type": "code",
      "metadata": {
        "colab": {
          "base_uri": "https://localhost:8080/"
        },
        "id": "nxHQtAH_myI_",
        "outputId": "4ce4876b-711b-4dc1-ba34-66a367dc8485"
      },
      "source": [
        "fives = np.arange(0, 100, 5)\n",
        "fives"
      ],
      "execution_count": null,
      "outputs": [
        {
          "output_type": "execute_result",
          "data": {
            "text/plain": [
              "array([ 0,  5, 10, 15, 20, 25, 30, 35, 40, 45, 50, 55, 60, 65, 70, 75, 80,\n",
              "       85, 90, 95])"
            ]
          },
          "metadata": {
            "tags": []
          },
          "execution_count": 65
        }
      ]
    },
    {
      "cell_type": "code",
      "metadata": {
        "colab": {
          "base_uri": "https://localhost:8080/"
        },
        "id": "FEa5V3S6nBzp",
        "outputId": "7db93b72-5b7d-432b-e6be-37c177b9c478"
      },
      "source": [
        "data[fives]"
      ],
      "execution_count": null,
      "outputs": [
        {
          "output_type": "execute_result",
          "data": {
            "text/plain": [
              "array([100, 105, 110, 115, 120, 125, 130, 135, 140, 145, 150, 155, 160,\n",
              "       165, 170, 175, 180, 185, 190, 195])"
            ]
          },
          "metadata": {
            "tags": []
          },
          "execution_count": 66
        }
      ]
    },
    {
      "cell_type": "code",
      "metadata": {
        "colab": {
          "base_uri": "https://localhost:8080/"
        },
        "id": "zQtb7gGEnTov",
        "outputId": "3bbb601a-6e95-4f28-a3e6-d6072b2b906c"
      },
      "source": [
        "data2D = data.reshape(10, -1)\n",
        "data2D"
      ],
      "execution_count": null,
      "outputs": [
        {
          "output_type": "execute_result",
          "data": {
            "text/plain": [
              "array([[100, 101, 102, 103, 104, 105, 106, 107, 108, 109],\n",
              "       [110, 111, 112, 113, 114, 115, 116, 117, 118, 119],\n",
              "       [120, 121, 122, 123, 124, 125, 126, 127, 128, 129],\n",
              "       [130, 131, 132, 133, 134, 135, 136, 137, 138, 139],\n",
              "       [140, 141, 142, 143, 144, 145, 146, 147, 148, 149],\n",
              "       [150, 151, 152, 153, 154, 155, 156, 157, 158, 159],\n",
              "       [160, 161, 162, 163, 164, 165, 166, 167, 168, 169],\n",
              "       [170, 171, 172, 173, 174, 175, 176, 177, 178, 179],\n",
              "       [180, 181, 182, 183, 184, 185, 186, 187, 188, 189],\n",
              "       [190, 191, 192, 193, 194, 195, 196, 197, 198, 199]])"
            ]
          },
          "metadata": {
            "tags": []
          },
          "execution_count": 67
        }
      ]
    },
    {
      "cell_type": "code",
      "metadata": {
        "colab": {
          "base_uri": "https://localhost:8080/"
        },
        "id": "barISyb3nYHq",
        "outputId": "aa22491e-3dc8-4775-8286-42ecb7dc3d75"
      },
      "source": [
        "data2D[2]"
      ],
      "execution_count": null,
      "outputs": [
        {
          "output_type": "execute_result",
          "data": {
            "text/plain": [
              "array([120, 121, 122, 123, 124, 125, 126, 127, 128, 129])"
            ]
          },
          "metadata": {
            "tags": []
          },
          "execution_count": 68
        }
      ]
    },
    {
      "cell_type": "code",
      "metadata": {
        "colab": {
          "base_uri": "https://localhost:8080/"
        },
        "id": "a_T4DrvpnrpB",
        "outputId": "abb47678-c98c-4d26-fc00-1bddd69294b2"
      },
      "source": [
        "data2D[2, 1]"
      ],
      "execution_count": null,
      "outputs": [
        {
          "output_type": "execute_result",
          "data": {
            "text/plain": [
              "121"
            ]
          },
          "metadata": {
            "tags": []
          },
          "execution_count": 69
        }
      ]
    },
    {
      "cell_type": "code",
      "metadata": {
        "colab": {
          "base_uri": "https://localhost:8080/"
        },
        "id": "MHf87CMsntDb",
        "outputId": "059cd706-34e3-4f5b-d5d4-c39b4190d1d6"
      },
      "source": [
        "data2D[-2, -1]"
      ],
      "execution_count": null,
      "outputs": [
        {
          "output_type": "execute_result",
          "data": {
            "text/plain": [
              "189"
            ]
          },
          "metadata": {
            "tags": []
          },
          "execution_count": 71
        }
      ]
    },
    {
      "cell_type": "code",
      "metadata": {
        "colab": {
          "base_uri": "https://localhost:8080/"
        },
        "id": "HCdUBV11n14C",
        "outputId": "f95eaffa-19bc-4164-e563-c600361909ab"
      },
      "source": [
        "data2D[:, 3]"
      ],
      "execution_count": null,
      "outputs": [
        {
          "output_type": "execute_result",
          "data": {
            "text/plain": [
              "array([103, 113, 123, 133, 143, 153, 163, 173, 183, 193])"
            ]
          },
          "metadata": {
            "tags": []
          },
          "execution_count": 73
        }
      ]
    },
    {
      "cell_type": "code",
      "metadata": {
        "colab": {
          "base_uri": "https://localhost:8080/"
        },
        "id": "p3u8PS8foDqz",
        "outputId": "5df8645c-5ca5-42a5-b993-a285dcbca2b9"
      },
      "source": [
        "# baris 1, 2 dan 3\n",
        "# kolum 3 dan 4\n",
        "data2D[1:4, 3:5]"
      ],
      "execution_count": null,
      "outputs": [
        {
          "output_type": "execute_result",
          "data": {
            "text/plain": [
              "array([[113, 114],\n",
              "       [123, 124],\n",
              "       [133, 134]])"
            ]
          },
          "metadata": {
            "tags": []
          },
          "execution_count": 74
        }
      ]
    },
    {
      "cell_type": "markdown",
      "metadata": {
        "id": "47QreqZIo5i3"
      },
      "source": [
        "# Mathematics"
      ]
    },
    {
      "cell_type": "code",
      "metadata": {
        "colab": {
          "base_uri": "https://localhost:8080/"
        },
        "id": "vmliRP29pLKr",
        "outputId": "0e3ce8a1-9071-4565-f955-31dc83b2a9ae"
      },
      "source": [
        "numbers = np.random.random((5, 5))\n",
        "numbers"
      ],
      "execution_count": null,
      "outputs": [
        {
          "output_type": "execute_result",
          "data": {
            "text/plain": [
              "array([[0.37881531, 0.72638123, 0.29899458, 0.04976302, 0.18611287],\n",
              "       [0.22969815, 0.5436504 , 0.94611156, 0.27933983, 0.27580926],\n",
              "       [0.9318502 , 0.16027881, 0.74908333, 0.42193634, 0.68217883],\n",
              "       [0.81746333, 0.54278588, 0.10077749, 0.77395673, 0.68181386],\n",
              "       [0.17211614, 0.08959462, 0.75541492, 0.83043718, 0.59005948]])"
            ]
          },
          "metadata": {
            "tags": []
          },
          "execution_count": 78
        }
      ]
    },
    {
      "cell_type": "code",
      "metadata": {
        "colab": {
          "base_uri": "https://localhost:8080/"
        },
        "id": "UjNcDuw1pPrV",
        "outputId": "6c3a6f11-a7d0-497b-b05d-406f68420ad4"
      },
      "source": [
        "print(np.amin(numbers))\n",
        "print(np.amax(numbers))\n",
        "print(np.average(numbers))\n",
        "print(np.sum(numbers))"
      ],
      "execution_count": null,
      "outputs": [
        {
          "output_type": "stream",
          "text": [
            "0.04976301880646605\n",
            "0.946111563551858\n",
            "0.4885769338218959\n",
            "12.214423345547397\n"
          ],
          "name": "stdout"
        }
      ]
    },
    {
      "cell_type": "code",
      "metadata": {
        "colab": {
          "base_uri": "https://localhost:8080/"
        },
        "id": "quMmbodPpmvn",
        "outputId": "39775c5a-7a25-4cac-f3c0-841429951864"
      },
      "source": [
        "np.sqrt(numbers)"
      ],
      "execution_count": null,
      "outputs": [
        {
          "output_type": "execute_result",
          "data": {
            "text/plain": [
              "array([[0.61547974, 0.85228002, 0.54680397, 0.22307626, 0.43140801],\n",
              "       [0.47926834, 0.73732652, 0.97268266, 0.52852609, 0.52517545],\n",
              "       [0.96532388, 0.40034836, 0.865496  , 0.64956627, 0.82594118],\n",
              "       [0.90413679, 0.73674004, 0.31745471, 0.87974811, 0.82572021],\n",
              "       [0.41486882, 0.2993236 , 0.86914608, 0.91128326, 0.76815329]])"
            ]
          },
          "metadata": {
            "tags": []
          },
          "execution_count": 80
        }
      ]
    },
    {
      "cell_type": "code",
      "metadata": {
        "colab": {
          "base_uri": "https://localhost:8080/"
        },
        "id": "oU2Sr8tVppS-",
        "outputId": "414179d9-870f-4f72-a196-e7b3bda6fef7"
      },
      "source": [
        "np.sin(numbers)"
      ],
      "execution_count": null,
      "outputs": [
        {
          "output_type": "execute_result",
          "data": {
            "text/plain": [
              "array([[0.36982003, 0.66416866, 0.29455955, 0.04974248, 0.1850403 ],\n",
              "       [0.22768361, 0.51726354, 0.81114752, 0.27572112, 0.2723257 ],\n",
              "       [0.80272468, 0.15959345, 0.68096776, 0.40952773, 0.63048573],\n",
              "       [0.72941291, 0.51652347, 0.100607  , 0.69897036, 0.6302024 ],\n",
              "       [0.1712676 , 0.0894748 , 0.68559078, 0.73822634, 0.55641045]])"
            ]
          },
          "metadata": {
            "tags": []
          },
          "execution_count": 81
        }
      ]
    },
    {
      "cell_type": "code",
      "metadata": {
        "colab": {
          "base_uri": "https://localhost:8080/"
        },
        "id": "TphBy369ps0m",
        "outputId": "cdc5c010-773d-40d8-cfd9-ce4fdfb9fd9e"
      },
      "source": [
        "np.cos(numbers)"
      ],
      "execution_count": null,
      "outputs": [
        {
          "output_type": "execute_result",
          "data": {
            "text/plain": [
              "array([[0.92910341, 0.74758276, 0.95563313, 0.99876208, 0.98273093],\n",
              "       [0.97373517, 0.85582617, 0.5848416 , 0.96123767, 0.96220513],\n",
              "       [0.59634981, 0.98718282, 0.7323134 , 0.91229767, 0.77620084],\n",
              "       [0.68407369, 0.85627303, 0.99492624, 0.71515064, 0.7764309 ],\n",
              "       [0.98522455, 0.99598909, 0.72798714, 0.67455309, 0.83090758]])"
            ]
          },
          "metadata": {
            "tags": []
          },
          "execution_count": 82
        }
      ]
    },
    {
      "cell_type": "code",
      "metadata": {
        "colab": {
          "base_uri": "https://localhost:8080/"
        },
        "id": "E17TIcPEpwCq",
        "outputId": "698eff26-c11a-4aa2-bdcc-2163c18204b7"
      },
      "source": [
        "sample = np.arange(1, 21)\n",
        "sample"
      ],
      "execution_count": null,
      "outputs": [
        {
          "output_type": "execute_result",
          "data": {
            "text/plain": [
              "array([ 1,  2,  3,  4,  5,  6,  7,  8,  9, 10, 11, 12, 13, 14, 15, 16, 17,\n",
              "       18, 19, 20])"
            ]
          },
          "metadata": {
            "tags": []
          },
          "execution_count": 83
        }
      ]
    },
    {
      "cell_type": "code",
      "metadata": {
        "colab": {
          "base_uri": "https://localhost:8080/"
        },
        "id": "DEBkQvtDqEcv",
        "outputId": "d69b84da-4125-4fe7-9575-8edb52164326"
      },
      "source": [
        "sample2 = np.arange(51, 71)\n",
        "sample2"
      ],
      "execution_count": null,
      "outputs": [
        {
          "output_type": "execute_result",
          "data": {
            "text/plain": [
              "array([51, 52, 53, 54, 55, 56, 57, 58, 59, 60, 61, 62, 63, 64, 65, 66, 67,\n",
              "       68, 69, 70])"
            ]
          },
          "metadata": {
            "tags": []
          },
          "execution_count": 87
        }
      ]
    },
    {
      "cell_type": "code",
      "metadata": {
        "colab": {
          "base_uri": "https://localhost:8080/"
        },
        "id": "fFxDxLwYp8eQ",
        "outputId": "637ce0c6-ff57-49ab-a72f-57c49416b446"
      },
      "source": [
        "sample + sample2"
      ],
      "execution_count": null,
      "outputs": [
        {
          "output_type": "execute_result",
          "data": {
            "text/plain": [
              "array([52, 54, 56, 58, 60, 62, 64, 66, 68, 70, 72, 74, 76, 78, 80, 82, 84,\n",
              "       86, 88, 90])"
            ]
          },
          "metadata": {
            "tags": []
          },
          "execution_count": 88
        }
      ]
    },
    {
      "cell_type": "code",
      "metadata": {
        "colab": {
          "base_uri": "https://localhost:8080/"
        },
        "id": "DW4i3ha8qR24",
        "outputId": "868c8a26-c0ad-417c-96f6-227b80a6058d"
      },
      "source": [
        "sample2 - sample"
      ],
      "execution_count": null,
      "outputs": [
        {
          "output_type": "execute_result",
          "data": {
            "text/plain": [
              "array([50, 50, 50, 50, 50, 50, 50, 50, 50, 50, 50, 50, 50, 50, 50, 50, 50,\n",
              "       50, 50, 50])"
            ]
          },
          "metadata": {
            "tags": []
          },
          "execution_count": 90
        }
      ]
    },
    {
      "cell_type": "code",
      "metadata": {
        "colab": {
          "base_uri": "https://localhost:8080/"
        },
        "id": "xOZMKXMSqA6r",
        "outputId": "35cdca65-1f3e-4820-803e-8e279962caa3"
      },
      "source": [
        "sample * sample2"
      ],
      "execution_count": null,
      "outputs": [
        {
          "output_type": "execute_result",
          "data": {
            "text/plain": [
              "array([  51,  104,  159,  216,  275,  336,  399,  464,  531,  600,  671,\n",
              "        744,  819,  896,  975, 1056, 1139, 1224, 1311, 1400])"
            ]
          },
          "metadata": {
            "tags": []
          },
          "execution_count": 91
        }
      ]
    },
    {
      "cell_type": "code",
      "metadata": {
        "colab": {
          "base_uri": "https://localhost:8080/"
        },
        "id": "-bthZnsRqXdJ",
        "outputId": "518001d1-e32d-490e-9c33-4e2d43c28987"
      },
      "source": [
        "sample / sample2"
      ],
      "execution_count": null,
      "outputs": [
        {
          "output_type": "execute_result",
          "data": {
            "text/plain": [
              "array([0.01960784, 0.03846154, 0.05660377, 0.07407407, 0.09090909,\n",
              "       0.10714286, 0.12280702, 0.13793103, 0.15254237, 0.16666667,\n",
              "       0.18032787, 0.19354839, 0.20634921, 0.21875   , 0.23076923,\n",
              "       0.24242424, 0.25373134, 0.26470588, 0.27536232, 0.28571429])"
            ]
          },
          "metadata": {
            "tags": []
          },
          "execution_count": 92
        }
      ]
    },
    {
      "cell_type": "markdown",
      "metadata": {
        "id": "gKF0H1DzsOtg"
      },
      "source": [
        "# Matrix"
      ]
    },
    {
      "cell_type": "code",
      "metadata": {
        "colab": {
          "base_uri": "https://localhost:8080/"
        },
        "id": "XQD9ze83t0n7",
        "outputId": "ccbf0cd5-0736-49e5-d882-821e3c119313"
      },
      "source": [
        "matrix = np.random.randint(1, 50, 20)\n",
        "matrix = matrix.reshape(4, -1)\n",
        "matrix"
      ],
      "execution_count": null,
      "outputs": [
        {
          "output_type": "execute_result",
          "data": {
            "text/plain": [
              "array([[17, 47, 21,  3, 47],\n",
              "       [36, 27, 44, 48, 48],\n",
              "       [49, 20, 39, 24, 43],\n",
              "       [27, 48, 27,  7, 18]])"
            ]
          },
          "metadata": {
            "tags": []
          },
          "execution_count": 110
        }
      ]
    },
    {
      "cell_type": "code",
      "metadata": {
        "colab": {
          "base_uri": "https://localhost:8080/"
        },
        "id": "q80_X-R4uJMI",
        "outputId": "aea4278d-9ade-4e73-a541-6497cd99b381"
      },
      "source": [
        "matrix.transpose()"
      ],
      "execution_count": null,
      "outputs": [
        {
          "output_type": "execute_result",
          "data": {
            "text/plain": [
              "array([[17, 36, 49, 27],\n",
              "       [47, 27, 20, 48],\n",
              "       [21, 44, 39, 27],\n",
              "       [ 3, 48, 24,  7],\n",
              "       [47, 48, 43, 18]])"
            ]
          },
          "metadata": {
            "tags": []
          },
          "execution_count": 111
        }
      ]
    },
    {
      "cell_type": "code",
      "metadata": {
        "colab": {
          "base_uri": "https://localhost:8080/"
        },
        "id": "Y5dZM5TJueFH",
        "outputId": "14338569-f181-4e44-d2a8-4038a8dee101"
      },
      "source": [
        "np.dot(matrix, -1)"
      ],
      "execution_count": null,
      "outputs": [
        {
          "output_type": "execute_result",
          "data": {
            "text/plain": [
              "array([[-17, -47, -21,  -3, -47],\n",
              "       [-36, -27, -44, -48, -48],\n",
              "       [-49, -20, -39, -24, -43],\n",
              "       [-27, -48, -27,  -7, -18]])"
            ]
          },
          "metadata": {
            "tags": []
          },
          "execution_count": 112
        }
      ]
    }
  ]
}