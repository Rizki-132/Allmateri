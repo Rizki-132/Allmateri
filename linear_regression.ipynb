{
  "nbformat": 4,
  "nbformat_minor": 0,
  "metadata": {
    "colab": {
      "provenance": [],
      "include_colab_link": true
    },
    "kernelspec": {
      "name": "python3",
      "display_name": "Python 3"
    },
    "language_info": {
      "name": "python"
    }
  },
  "cells": [
    {
      "cell_type": "markdown",
      "metadata": {
        "id": "view-in-github",
        "colab_type": "text"
      },
      "source": [
        "<a href=\"https://colab.research.google.com/github/Rizki-132/Allmateri/blob/main/linear_regression.ipynb\" target=\"_parent\"><img src=\"https://colab.research.google.com/assets/colab-badge.svg\" alt=\"Open In Colab\"/></a>"
      ]
    },
    {
      "cell_type": "code",
      "metadata": {
        "colab": {
          "base_uri": "https://localhost:8080/",
          "height": 252
        },
        "id": "HBj3mDXzE9LP",
        "outputId": "7f2be81f-e707-47a1-e649-fa6005ef2d1f"
      },
      "source": [
        "import pandas as pd\n",
        "\n",
        "data = pd.read_csv('/content/life_expectancy_years.csv')\n",
        "data.head()"
      ],
      "execution_count": null,
      "outputs": [
        {
          "output_type": "execute_result",
          "data": {
            "text/html": [
              "<div>\n",
              "<style scoped>\n",
              "    .dataframe tbody tr th:only-of-type {\n",
              "        vertical-align: middle;\n",
              "    }\n",
              "\n",
              "    .dataframe tbody tr th {\n",
              "        vertical-align: top;\n",
              "    }\n",
              "\n",
              "    .dataframe thead th {\n",
              "        text-align: right;\n",
              "    }\n",
              "</style>\n",
              "<table border=\"1\" class=\"dataframe\">\n",
              "  <thead>\n",
              "    <tr style=\"text-align: right;\">\n",
              "      <th></th>\n",
              "      <th>country</th>\n",
              "      <th>1800</th>\n",
              "      <th>1801</th>\n",
              "      <th>1802</th>\n",
              "      <th>1803</th>\n",
              "      <th>1804</th>\n",
              "      <th>1805</th>\n",
              "      <th>1806</th>\n",
              "      <th>1807</th>\n",
              "      <th>1808</th>\n",
              "      <th>1809</th>\n",
              "      <th>1810</th>\n",
              "      <th>1811</th>\n",
              "      <th>1812</th>\n",
              "      <th>1813</th>\n",
              "      <th>1814</th>\n",
              "      <th>1815</th>\n",
              "      <th>1816</th>\n",
              "      <th>1817</th>\n",
              "      <th>1818</th>\n",
              "      <th>1819</th>\n",
              "      <th>1820</th>\n",
              "      <th>1821</th>\n",
              "      <th>1822</th>\n",
              "      <th>1823</th>\n",
              "      <th>1824</th>\n",
              "      <th>1825</th>\n",
              "      <th>1826</th>\n",
              "      <th>1827</th>\n",
              "      <th>1828</th>\n",
              "      <th>1829</th>\n",
              "      <th>1830</th>\n",
              "      <th>1831</th>\n",
              "      <th>1832</th>\n",
              "      <th>1833</th>\n",
              "      <th>1834</th>\n",
              "      <th>1835</th>\n",
              "      <th>1836</th>\n",
              "      <th>1837</th>\n",
              "      <th>1838</th>\n",
              "      <th>...</th>\n",
              "      <th>2061</th>\n",
              "      <th>2062</th>\n",
              "      <th>2063</th>\n",
              "      <th>2064</th>\n",
              "      <th>2065</th>\n",
              "      <th>2066</th>\n",
              "      <th>2067</th>\n",
              "      <th>2068</th>\n",
              "      <th>2069</th>\n",
              "      <th>2070</th>\n",
              "      <th>2071</th>\n",
              "      <th>2072</th>\n",
              "      <th>2073</th>\n",
              "      <th>2074</th>\n",
              "      <th>2075</th>\n",
              "      <th>2076</th>\n",
              "      <th>2077</th>\n",
              "      <th>2078</th>\n",
              "      <th>2079</th>\n",
              "      <th>2080</th>\n",
              "      <th>2081</th>\n",
              "      <th>2082</th>\n",
              "      <th>2083</th>\n",
              "      <th>2084</th>\n",
              "      <th>2085</th>\n",
              "      <th>2086</th>\n",
              "      <th>2087</th>\n",
              "      <th>2088</th>\n",
              "      <th>2089</th>\n",
              "      <th>2090</th>\n",
              "      <th>2091</th>\n",
              "      <th>2092</th>\n",
              "      <th>2093</th>\n",
              "      <th>2094</th>\n",
              "      <th>2095</th>\n",
              "      <th>2096</th>\n",
              "      <th>2097</th>\n",
              "      <th>2098</th>\n",
              "      <th>2099</th>\n",
              "      <th>2100</th>\n",
              "    </tr>\n",
              "  </thead>\n",
              "  <tbody>\n",
              "    <tr>\n",
              "      <th>0</th>\n",
              "      <td>Afghanistan</td>\n",
              "      <td>28.2</td>\n",
              "      <td>28.2</td>\n",
              "      <td>28.2</td>\n",
              "      <td>28.2</td>\n",
              "      <td>28.2</td>\n",
              "      <td>28.2</td>\n",
              "      <td>28.1</td>\n",
              "      <td>28.1</td>\n",
              "      <td>28.1</td>\n",
              "      <td>28.1</td>\n",
              "      <td>28.1</td>\n",
              "      <td>28.1</td>\n",
              "      <td>28.1</td>\n",
              "      <td>28.1</td>\n",
              "      <td>28.1</td>\n",
              "      <td>28.1</td>\n",
              "      <td>28.1</td>\n",
              "      <td>28.0</td>\n",
              "      <td>28.0</td>\n",
              "      <td>28.0</td>\n",
              "      <td>28.0</td>\n",
              "      <td>28.0</td>\n",
              "      <td>28.0</td>\n",
              "      <td>28.0</td>\n",
              "      <td>28.0</td>\n",
              "      <td>27.9</td>\n",
              "      <td>27.9</td>\n",
              "      <td>27.9</td>\n",
              "      <td>27.9</td>\n",
              "      <td>27.9</td>\n",
              "      <td>27.9</td>\n",
              "      <td>27.9</td>\n",
              "      <td>27.9</td>\n",
              "      <td>27.9</td>\n",
              "      <td>27.9</td>\n",
              "      <td>27.9</td>\n",
              "      <td>27.8</td>\n",
              "      <td>27.8</td>\n",
              "      <td>27.8</td>\n",
              "      <td>...</td>\n",
              "      <td>72.4</td>\n",
              "      <td>72.5</td>\n",
              "      <td>72.7</td>\n",
              "      <td>72.8</td>\n",
              "      <td>72.9</td>\n",
              "      <td>73.1</td>\n",
              "      <td>73.2</td>\n",
              "      <td>73.3</td>\n",
              "      <td>73.5</td>\n",
              "      <td>73.6</td>\n",
              "      <td>73.7</td>\n",
              "      <td>73.9</td>\n",
              "      <td>74.0</td>\n",
              "      <td>74.2</td>\n",
              "      <td>74.3</td>\n",
              "      <td>74.4</td>\n",
              "      <td>74.6</td>\n",
              "      <td>74.7</td>\n",
              "      <td>74.8</td>\n",
              "      <td>75.0</td>\n",
              "      <td>75.1</td>\n",
              "      <td>75.2</td>\n",
              "      <td>75.4</td>\n",
              "      <td>75.5</td>\n",
              "      <td>75.6</td>\n",
              "      <td>75.8</td>\n",
              "      <td>75.9</td>\n",
              "      <td>76.0</td>\n",
              "      <td>76.2</td>\n",
              "      <td>76.3</td>\n",
              "      <td>76.5</td>\n",
              "      <td>76.6</td>\n",
              "      <td>76.7</td>\n",
              "      <td>76.9</td>\n",
              "      <td>77.0</td>\n",
              "      <td>77.1</td>\n",
              "      <td>77.3</td>\n",
              "      <td>77.4</td>\n",
              "      <td>77.5</td>\n",
              "      <td>77.7</td>\n",
              "    </tr>\n",
              "    <tr>\n",
              "      <th>1</th>\n",
              "      <td>Albania</td>\n",
              "      <td>35.4</td>\n",
              "      <td>35.4</td>\n",
              "      <td>35.4</td>\n",
              "      <td>35.4</td>\n",
              "      <td>35.4</td>\n",
              "      <td>35.4</td>\n",
              "      <td>35.4</td>\n",
              "      <td>35.4</td>\n",
              "      <td>35.4</td>\n",
              "      <td>35.4</td>\n",
              "      <td>35.4</td>\n",
              "      <td>35.4</td>\n",
              "      <td>35.4</td>\n",
              "      <td>35.4</td>\n",
              "      <td>35.4</td>\n",
              "      <td>35.4</td>\n",
              "      <td>35.4</td>\n",
              "      <td>35.4</td>\n",
              "      <td>35.4</td>\n",
              "      <td>35.4</td>\n",
              "      <td>35.4</td>\n",
              "      <td>35.4</td>\n",
              "      <td>35.4</td>\n",
              "      <td>35.4</td>\n",
              "      <td>35.4</td>\n",
              "      <td>35.4</td>\n",
              "      <td>35.4</td>\n",
              "      <td>35.4</td>\n",
              "      <td>35.4</td>\n",
              "      <td>35.4</td>\n",
              "      <td>35.4</td>\n",
              "      <td>35.4</td>\n",
              "      <td>35.4</td>\n",
              "      <td>35.4</td>\n",
              "      <td>35.4</td>\n",
              "      <td>35.4</td>\n",
              "      <td>35.4</td>\n",
              "      <td>35.4</td>\n",
              "      <td>35.4</td>\n",
              "      <td>...</td>\n",
              "      <td>84.2</td>\n",
              "      <td>84.3</td>\n",
              "      <td>84.5</td>\n",
              "      <td>84.6</td>\n",
              "      <td>84.7</td>\n",
              "      <td>84.8</td>\n",
              "      <td>84.9</td>\n",
              "      <td>85.0</td>\n",
              "      <td>85.1</td>\n",
              "      <td>85.2</td>\n",
              "      <td>85.3</td>\n",
              "      <td>85.4</td>\n",
              "      <td>85.5</td>\n",
              "      <td>85.7</td>\n",
              "      <td>85.8</td>\n",
              "      <td>85.8</td>\n",
              "      <td>86.0</td>\n",
              "      <td>86.0</td>\n",
              "      <td>86.2</td>\n",
              "      <td>86.3</td>\n",
              "      <td>86.4</td>\n",
              "      <td>86.5</td>\n",
              "      <td>86.6</td>\n",
              "      <td>86.7</td>\n",
              "      <td>86.8</td>\n",
              "      <td>86.9</td>\n",
              "      <td>87.0</td>\n",
              "      <td>87.1</td>\n",
              "      <td>87.2</td>\n",
              "      <td>87.3</td>\n",
              "      <td>87.4</td>\n",
              "      <td>87.5</td>\n",
              "      <td>87.6</td>\n",
              "      <td>87.7</td>\n",
              "      <td>87.8</td>\n",
              "      <td>87.9</td>\n",
              "      <td>88.0</td>\n",
              "      <td>88.1</td>\n",
              "      <td>88.2</td>\n",
              "      <td>88.3</td>\n",
              "    </tr>\n",
              "    <tr>\n",
              "      <th>2</th>\n",
              "      <td>Algeria</td>\n",
              "      <td>28.8</td>\n",
              "      <td>28.8</td>\n",
              "      <td>28.8</td>\n",
              "      <td>28.8</td>\n",
              "      <td>28.8</td>\n",
              "      <td>28.8</td>\n",
              "      <td>28.8</td>\n",
              "      <td>28.8</td>\n",
              "      <td>28.8</td>\n",
              "      <td>28.8</td>\n",
              "      <td>28.8</td>\n",
              "      <td>28.8</td>\n",
              "      <td>28.8</td>\n",
              "      <td>28.8</td>\n",
              "      <td>28.8</td>\n",
              "      <td>28.8</td>\n",
              "      <td>28.8</td>\n",
              "      <td>28.8</td>\n",
              "      <td>28.8</td>\n",
              "      <td>28.8</td>\n",
              "      <td>28.8</td>\n",
              "      <td>28.8</td>\n",
              "      <td>28.8</td>\n",
              "      <td>28.8</td>\n",
              "      <td>28.8</td>\n",
              "      <td>28.8</td>\n",
              "      <td>28.8</td>\n",
              "      <td>28.8</td>\n",
              "      <td>28.8</td>\n",
              "      <td>28.8</td>\n",
              "      <td>28.8</td>\n",
              "      <td>28.8</td>\n",
              "      <td>28.8</td>\n",
              "      <td>28.8</td>\n",
              "      <td>28.8</td>\n",
              "      <td>28.8</td>\n",
              "      <td>28.8</td>\n",
              "      <td>28.8</td>\n",
              "      <td>28.8</td>\n",
              "      <td>...</td>\n",
              "      <td>84.8</td>\n",
              "      <td>85.0</td>\n",
              "      <td>85.1</td>\n",
              "      <td>85.2</td>\n",
              "      <td>85.3</td>\n",
              "      <td>85.5</td>\n",
              "      <td>85.6</td>\n",
              "      <td>85.7</td>\n",
              "      <td>85.8</td>\n",
              "      <td>86.0</td>\n",
              "      <td>86.1</td>\n",
              "      <td>86.2</td>\n",
              "      <td>86.3</td>\n",
              "      <td>86.4</td>\n",
              "      <td>86.5</td>\n",
              "      <td>86.7</td>\n",
              "      <td>86.8</td>\n",
              "      <td>86.9</td>\n",
              "      <td>87.0</td>\n",
              "      <td>87.1</td>\n",
              "      <td>87.2</td>\n",
              "      <td>87.3</td>\n",
              "      <td>87.4</td>\n",
              "      <td>87.5</td>\n",
              "      <td>87.6</td>\n",
              "      <td>87.7</td>\n",
              "      <td>87.8</td>\n",
              "      <td>87.9</td>\n",
              "      <td>88.0</td>\n",
              "      <td>88.2</td>\n",
              "      <td>88.3</td>\n",
              "      <td>88.4</td>\n",
              "      <td>88.5</td>\n",
              "      <td>88.6</td>\n",
              "      <td>88.7</td>\n",
              "      <td>88.8</td>\n",
              "      <td>88.9</td>\n",
              "      <td>89.0</td>\n",
              "      <td>89.1</td>\n",
              "      <td>89.2</td>\n",
              "    </tr>\n",
              "    <tr>\n",
              "      <th>3</th>\n",
              "      <td>Andorra</td>\n",
              "      <td>NaN</td>\n",
              "      <td>NaN</td>\n",
              "      <td>NaN</td>\n",
              "      <td>NaN</td>\n",
              "      <td>NaN</td>\n",
              "      <td>NaN</td>\n",
              "      <td>NaN</td>\n",
              "      <td>NaN</td>\n",
              "      <td>NaN</td>\n",
              "      <td>NaN</td>\n",
              "      <td>NaN</td>\n",
              "      <td>NaN</td>\n",
              "      <td>NaN</td>\n",
              "      <td>NaN</td>\n",
              "      <td>NaN</td>\n",
              "      <td>NaN</td>\n",
              "      <td>NaN</td>\n",
              "      <td>NaN</td>\n",
              "      <td>NaN</td>\n",
              "      <td>NaN</td>\n",
              "      <td>NaN</td>\n",
              "      <td>NaN</td>\n",
              "      <td>NaN</td>\n",
              "      <td>NaN</td>\n",
              "      <td>NaN</td>\n",
              "      <td>NaN</td>\n",
              "      <td>NaN</td>\n",
              "      <td>NaN</td>\n",
              "      <td>NaN</td>\n",
              "      <td>NaN</td>\n",
              "      <td>NaN</td>\n",
              "      <td>NaN</td>\n",
              "      <td>NaN</td>\n",
              "      <td>NaN</td>\n",
              "      <td>NaN</td>\n",
              "      <td>NaN</td>\n",
              "      <td>NaN</td>\n",
              "      <td>NaN</td>\n",
              "      <td>NaN</td>\n",
              "      <td>...</td>\n",
              "      <td>NaN</td>\n",
              "      <td>NaN</td>\n",
              "      <td>NaN</td>\n",
              "      <td>NaN</td>\n",
              "      <td>NaN</td>\n",
              "      <td>NaN</td>\n",
              "      <td>NaN</td>\n",
              "      <td>NaN</td>\n",
              "      <td>NaN</td>\n",
              "      <td>NaN</td>\n",
              "      <td>NaN</td>\n",
              "      <td>NaN</td>\n",
              "      <td>NaN</td>\n",
              "      <td>NaN</td>\n",
              "      <td>NaN</td>\n",
              "      <td>NaN</td>\n",
              "      <td>NaN</td>\n",
              "      <td>NaN</td>\n",
              "      <td>NaN</td>\n",
              "      <td>NaN</td>\n",
              "      <td>NaN</td>\n",
              "      <td>NaN</td>\n",
              "      <td>NaN</td>\n",
              "      <td>NaN</td>\n",
              "      <td>NaN</td>\n",
              "      <td>NaN</td>\n",
              "      <td>NaN</td>\n",
              "      <td>NaN</td>\n",
              "      <td>NaN</td>\n",
              "      <td>NaN</td>\n",
              "      <td>NaN</td>\n",
              "      <td>NaN</td>\n",
              "      <td>NaN</td>\n",
              "      <td>NaN</td>\n",
              "      <td>NaN</td>\n",
              "      <td>NaN</td>\n",
              "      <td>NaN</td>\n",
              "      <td>NaN</td>\n",
              "      <td>NaN</td>\n",
              "      <td>NaN</td>\n",
              "    </tr>\n",
              "    <tr>\n",
              "      <th>4</th>\n",
              "      <td>Angola</td>\n",
              "      <td>27.0</td>\n",
              "      <td>27.0</td>\n",
              "      <td>27.0</td>\n",
              "      <td>27.0</td>\n",
              "      <td>27.0</td>\n",
              "      <td>27.0</td>\n",
              "      <td>27.0</td>\n",
              "      <td>27.0</td>\n",
              "      <td>27.0</td>\n",
              "      <td>27.0</td>\n",
              "      <td>27.0</td>\n",
              "      <td>27.0</td>\n",
              "      <td>27.0</td>\n",
              "      <td>27.0</td>\n",
              "      <td>27.0</td>\n",
              "      <td>27.0</td>\n",
              "      <td>27.0</td>\n",
              "      <td>27.0</td>\n",
              "      <td>27.0</td>\n",
              "      <td>27.0</td>\n",
              "      <td>27.0</td>\n",
              "      <td>27.0</td>\n",
              "      <td>27.0</td>\n",
              "      <td>27.0</td>\n",
              "      <td>27.0</td>\n",
              "      <td>27.0</td>\n",
              "      <td>27.0</td>\n",
              "      <td>27.0</td>\n",
              "      <td>27.0</td>\n",
              "      <td>27.0</td>\n",
              "      <td>27.0</td>\n",
              "      <td>27.0</td>\n",
              "      <td>27.0</td>\n",
              "      <td>27.0</td>\n",
              "      <td>27.0</td>\n",
              "      <td>27.0</td>\n",
              "      <td>27.0</td>\n",
              "      <td>27.0</td>\n",
              "      <td>27.0</td>\n",
              "      <td>...</td>\n",
              "      <td>74.8</td>\n",
              "      <td>74.9</td>\n",
              "      <td>75.0</td>\n",
              "      <td>75.2</td>\n",
              "      <td>75.3</td>\n",
              "      <td>75.5</td>\n",
              "      <td>75.6</td>\n",
              "      <td>75.7</td>\n",
              "      <td>75.9</td>\n",
              "      <td>76.0</td>\n",
              "      <td>76.2</td>\n",
              "      <td>76.3</td>\n",
              "      <td>76.4</td>\n",
              "      <td>76.5</td>\n",
              "      <td>76.7</td>\n",
              "      <td>76.8</td>\n",
              "      <td>77.0</td>\n",
              "      <td>77.1</td>\n",
              "      <td>77.2</td>\n",
              "      <td>77.3</td>\n",
              "      <td>77.5</td>\n",
              "      <td>77.6</td>\n",
              "      <td>77.7</td>\n",
              "      <td>77.8</td>\n",
              "      <td>78.0</td>\n",
              "      <td>78.1</td>\n",
              "      <td>78.2</td>\n",
              "      <td>78.4</td>\n",
              "      <td>78.5</td>\n",
              "      <td>78.6</td>\n",
              "      <td>78.7</td>\n",
              "      <td>78.9</td>\n",
              "      <td>79.0</td>\n",
              "      <td>79.1</td>\n",
              "      <td>79.3</td>\n",
              "      <td>79.4</td>\n",
              "      <td>79.5</td>\n",
              "      <td>79.7</td>\n",
              "      <td>79.8</td>\n",
              "      <td>79.9</td>\n",
              "    </tr>\n",
              "  </tbody>\n",
              "</table>\n",
              "<p>5 rows × 302 columns</p>\n",
              "</div>"
            ],
            "text/plain": [
              "       country  1800  1801  1802  1803  ...  2096  2097  2098  2099  2100\n",
              "0  Afghanistan  28.2  28.2  28.2  28.2  ...  77.1  77.3  77.4  77.5  77.7\n",
              "1      Albania  35.4  35.4  35.4  35.4  ...  87.9  88.0  88.1  88.2  88.3\n",
              "2      Algeria  28.8  28.8  28.8  28.8  ...  88.8  88.9  89.0  89.1  89.2\n",
              "3      Andorra   NaN   NaN   NaN   NaN  ...   NaN   NaN   NaN   NaN   NaN\n",
              "4       Angola  27.0  27.0  27.0  27.0  ...  79.4  79.5  79.7  79.8  79.9\n",
              "\n",
              "[5 rows x 302 columns]"
            ]
          },
          "metadata": {
            "tags": []
          },
          "execution_count": 1
        }
      ]
    },
    {
      "cell_type": "code",
      "metadata": {
        "colab": {
          "base_uri": "https://localhost:8080/"
        },
        "id": "ZUVnW_erGPgE",
        "outputId": "5a970044-f386-4f29-9a1a-dc758c1b6d03"
      },
      "source": [
        "data.info()"
      ],
      "execution_count": null,
      "outputs": [
        {
          "output_type": "stream",
          "text": [
            "<class 'pandas.core.frame.DataFrame'>\n",
            "RangeIndex: 187 entries, 0 to 186\n",
            "Columns: 302 entries, country to 2100\n",
            "dtypes: float64(301), object(1)\n",
            "memory usage: 441.3+ KB\n"
          ],
          "name": "stdout"
        }
      ]
    },
    {
      "cell_type": "code",
      "metadata": {
        "colab": {
          "base_uri": "https://localhost:8080/",
          "height": 344
        },
        "id": "4rGLete8GZJW",
        "outputId": "939a2ac0-f368-4f25-fb0d-cd05c8b4636e"
      },
      "source": [
        "data.describe()"
      ],
      "execution_count": null,
      "outputs": [
        {
          "output_type": "execute_result",
          "data": {
            "text/html": [
              "<div>\n",
              "<style scoped>\n",
              "    .dataframe tbody tr th:only-of-type {\n",
              "        vertical-align: middle;\n",
              "    }\n",
              "\n",
              "    .dataframe tbody tr th {\n",
              "        vertical-align: top;\n",
              "    }\n",
              "\n",
              "    .dataframe thead th {\n",
              "        text-align: right;\n",
              "    }\n",
              "</style>\n",
              "<table border=\"1\" class=\"dataframe\">\n",
              "  <thead>\n",
              "    <tr style=\"text-align: right;\">\n",
              "      <th></th>\n",
              "      <th>1800</th>\n",
              "      <th>1801</th>\n",
              "      <th>1802</th>\n",
              "      <th>1803</th>\n",
              "      <th>1804</th>\n",
              "      <th>1805</th>\n",
              "      <th>1806</th>\n",
              "      <th>1807</th>\n",
              "      <th>1808</th>\n",
              "      <th>1809</th>\n",
              "      <th>1810</th>\n",
              "      <th>1811</th>\n",
              "      <th>1812</th>\n",
              "      <th>1813</th>\n",
              "      <th>1814</th>\n",
              "      <th>1815</th>\n",
              "      <th>1816</th>\n",
              "      <th>1817</th>\n",
              "      <th>1818</th>\n",
              "      <th>1819</th>\n",
              "      <th>1820</th>\n",
              "      <th>1821</th>\n",
              "      <th>1822</th>\n",
              "      <th>1823</th>\n",
              "      <th>1824</th>\n",
              "      <th>1825</th>\n",
              "      <th>1826</th>\n",
              "      <th>1827</th>\n",
              "      <th>1828</th>\n",
              "      <th>1829</th>\n",
              "      <th>1830</th>\n",
              "      <th>1831</th>\n",
              "      <th>1832</th>\n",
              "      <th>1833</th>\n",
              "      <th>1834</th>\n",
              "      <th>1835</th>\n",
              "      <th>1836</th>\n",
              "      <th>1837</th>\n",
              "      <th>1838</th>\n",
              "      <th>1839</th>\n",
              "      <th>...</th>\n",
              "      <th>2061</th>\n",
              "      <th>2062</th>\n",
              "      <th>2063</th>\n",
              "      <th>2064</th>\n",
              "      <th>2065</th>\n",
              "      <th>2066</th>\n",
              "      <th>2067</th>\n",
              "      <th>2068</th>\n",
              "      <th>2069</th>\n",
              "      <th>2070</th>\n",
              "      <th>2071</th>\n",
              "      <th>2072</th>\n",
              "      <th>2073</th>\n",
              "      <th>2074</th>\n",
              "      <th>2075</th>\n",
              "      <th>2076</th>\n",
              "      <th>2077</th>\n",
              "      <th>2078</th>\n",
              "      <th>2079</th>\n",
              "      <th>2080</th>\n",
              "      <th>2081</th>\n",
              "      <th>2082</th>\n",
              "      <th>2083</th>\n",
              "      <th>2084</th>\n",
              "      <th>2085</th>\n",
              "      <th>2086</th>\n",
              "      <th>2087</th>\n",
              "      <th>2088</th>\n",
              "      <th>2089</th>\n",
              "      <th>2090</th>\n",
              "      <th>2091</th>\n",
              "      <th>2092</th>\n",
              "      <th>2093</th>\n",
              "      <th>2094</th>\n",
              "      <th>2095</th>\n",
              "      <th>2096</th>\n",
              "      <th>2097</th>\n",
              "      <th>2098</th>\n",
              "      <th>2099</th>\n",
              "      <th>2100</th>\n",
              "    </tr>\n",
              "  </thead>\n",
              "  <tbody>\n",
              "    <tr>\n",
              "      <th>count</th>\n",
              "      <td>184.000000</td>\n",
              "      <td>184.000000</td>\n",
              "      <td>184.000000</td>\n",
              "      <td>184.000000</td>\n",
              "      <td>184.000000</td>\n",
              "      <td>184.000000</td>\n",
              "      <td>184.000000</td>\n",
              "      <td>184.000000</td>\n",
              "      <td>184.000000</td>\n",
              "      <td>184.000000</td>\n",
              "      <td>184.000000</td>\n",
              "      <td>184.000000</td>\n",
              "      <td>184.00000</td>\n",
              "      <td>184.000000</td>\n",
              "      <td>184.000000</td>\n",
              "      <td>184.000000</td>\n",
              "      <td>184.000000</td>\n",
              "      <td>184.000000</td>\n",
              "      <td>184.000000</td>\n",
              "      <td>184.000000</td>\n",
              "      <td>184.000000</td>\n",
              "      <td>184.000000</td>\n",
              "      <td>184.000000</td>\n",
              "      <td>184.000000</td>\n",
              "      <td>184.000000</td>\n",
              "      <td>184.000000</td>\n",
              "      <td>184.000000</td>\n",
              "      <td>184.000000</td>\n",
              "      <td>184.000000</td>\n",
              "      <td>184.000000</td>\n",
              "      <td>184.000000</td>\n",
              "      <td>184.000000</td>\n",
              "      <td>184.000000</td>\n",
              "      <td>184.00000</td>\n",
              "      <td>184.000000</td>\n",
              "      <td>184.000000</td>\n",
              "      <td>184.000000</td>\n",
              "      <td>184.000000</td>\n",
              "      <td>184.000000</td>\n",
              "      <td>184.000000</td>\n",
              "      <td>...</td>\n",
              "      <td>184.000000</td>\n",
              "      <td>184.000000</td>\n",
              "      <td>184.000000</td>\n",
              "      <td>184.000000</td>\n",
              "      <td>184.000000</td>\n",
              "      <td>184.000000</td>\n",
              "      <td>184.000000</td>\n",
              "      <td>184.000000</td>\n",
              "      <td>184.000000</td>\n",
              "      <td>184.000000</td>\n",
              "      <td>184.000000</td>\n",
              "      <td>184.000000</td>\n",
              "      <td>184.000000</td>\n",
              "      <td>184.000000</td>\n",
              "      <td>184.000000</td>\n",
              "      <td>184.000000</td>\n",
              "      <td>184.000000</td>\n",
              "      <td>184.000000</td>\n",
              "      <td>184.000000</td>\n",
              "      <td>184.000000</td>\n",
              "      <td>184.000000</td>\n",
              "      <td>184.000000</td>\n",
              "      <td>184.000000</td>\n",
              "      <td>184.000000</td>\n",
              "      <td>184.000000</td>\n",
              "      <td>184.000000</td>\n",
              "      <td>184.000000</td>\n",
              "      <td>184.000000</td>\n",
              "      <td>184.000000</td>\n",
              "      <td>184.000000</td>\n",
              "      <td>184.000000</td>\n",
              "      <td>184.00000</td>\n",
              "      <td>184.000000</td>\n",
              "      <td>184.000000</td>\n",
              "      <td>184.000000</td>\n",
              "      <td>184.000000</td>\n",
              "      <td>184.000000</td>\n",
              "      <td>184.000000</td>\n",
              "      <td>184.00000</td>\n",
              "      <td>184.000000</td>\n",
              "    </tr>\n",
              "    <tr>\n",
              "      <th>mean</th>\n",
              "      <td>31.502717</td>\n",
              "      <td>31.461957</td>\n",
              "      <td>31.478804</td>\n",
              "      <td>31.383152</td>\n",
              "      <td>31.459239</td>\n",
              "      <td>31.586413</td>\n",
              "      <td>31.644565</td>\n",
              "      <td>31.598370</td>\n",
              "      <td>31.383152</td>\n",
              "      <td>31.310326</td>\n",
              "      <td>31.541848</td>\n",
              "      <td>31.498370</td>\n",
              "      <td>31.48750</td>\n",
              "      <td>31.482609</td>\n",
              "      <td>31.535326</td>\n",
              "      <td>31.678804</td>\n",
              "      <td>31.656522</td>\n",
              "      <td>31.759239</td>\n",
              "      <td>31.599457</td>\n",
              "      <td>31.504891</td>\n",
              "      <td>31.584239</td>\n",
              "      <td>31.649457</td>\n",
              "      <td>31.760870</td>\n",
              "      <td>31.813587</td>\n",
              "      <td>31.746196</td>\n",
              "      <td>31.698913</td>\n",
              "      <td>31.623370</td>\n",
              "      <td>31.663043</td>\n",
              "      <td>31.601630</td>\n",
              "      <td>31.583696</td>\n",
              "      <td>31.670652</td>\n",
              "      <td>31.632609</td>\n",
              "      <td>31.593478</td>\n",
              "      <td>31.58913</td>\n",
              "      <td>31.575000</td>\n",
              "      <td>31.708696</td>\n",
              "      <td>31.672283</td>\n",
              "      <td>31.605978</td>\n",
              "      <td>31.671739</td>\n",
              "      <td>31.661957</td>\n",
              "      <td>...</td>\n",
              "      <td>79.963043</td>\n",
              "      <td>80.098370</td>\n",
              "      <td>80.235326</td>\n",
              "      <td>80.363587</td>\n",
              "      <td>80.496196</td>\n",
              "      <td>80.625000</td>\n",
              "      <td>80.759239</td>\n",
              "      <td>80.889130</td>\n",
              "      <td>81.013587</td>\n",
              "      <td>81.150000</td>\n",
              "      <td>81.269022</td>\n",
              "      <td>81.404891</td>\n",
              "      <td>81.532609</td>\n",
              "      <td>81.661413</td>\n",
              "      <td>81.784783</td>\n",
              "      <td>81.913043</td>\n",
              "      <td>82.040217</td>\n",
              "      <td>82.165217</td>\n",
              "      <td>82.284783</td>\n",
              "      <td>82.411957</td>\n",
              "      <td>82.534239</td>\n",
              "      <td>82.657065</td>\n",
              "      <td>82.784239</td>\n",
              "      <td>82.905435</td>\n",
              "      <td>83.031522</td>\n",
              "      <td>83.147826</td>\n",
              "      <td>83.272283</td>\n",
              "      <td>83.392391</td>\n",
              "      <td>83.516304</td>\n",
              "      <td>83.632609</td>\n",
              "      <td>83.758152</td>\n",
              "      <td>83.87663</td>\n",
              "      <td>83.996196</td>\n",
              "      <td>84.119022</td>\n",
              "      <td>84.236957</td>\n",
              "      <td>84.358152</td>\n",
              "      <td>84.478804</td>\n",
              "      <td>84.593478</td>\n",
              "      <td>84.71087</td>\n",
              "      <td>84.829891</td>\n",
              "    </tr>\n",
              "    <tr>\n",
              "      <th>std</th>\n",
              "      <td>3.814689</td>\n",
              "      <td>3.806303</td>\n",
              "      <td>3.938674</td>\n",
              "      <td>3.962376</td>\n",
              "      <td>3.934674</td>\n",
              "      <td>4.010884</td>\n",
              "      <td>4.110598</td>\n",
              "      <td>3.981247</td>\n",
              "      <td>4.087872</td>\n",
              "      <td>4.040580</td>\n",
              "      <td>3.876655</td>\n",
              "      <td>3.795129</td>\n",
              "      <td>3.89834</td>\n",
              "      <td>3.808951</td>\n",
              "      <td>3.863773</td>\n",
              "      <td>4.134360</td>\n",
              "      <td>4.115074</td>\n",
              "      <td>4.329783</td>\n",
              "      <td>4.650207</td>\n",
              "      <td>4.653000</td>\n",
              "      <td>4.555057</td>\n",
              "      <td>4.049961</td>\n",
              "      <td>4.289406</td>\n",
              "      <td>4.393920</td>\n",
              "      <td>4.222071</td>\n",
              "      <td>4.175167</td>\n",
              "      <td>4.089524</td>\n",
              "      <td>4.190262</td>\n",
              "      <td>3.997205</td>\n",
              "      <td>3.946826</td>\n",
              "      <td>4.064965</td>\n",
              "      <td>4.007646</td>\n",
              "      <td>4.018028</td>\n",
              "      <td>4.12223</td>\n",
              "      <td>3.933828</td>\n",
              "      <td>4.178494</td>\n",
              "      <td>4.150034</td>\n",
              "      <td>4.042549</td>\n",
              "      <td>4.067594</td>\n",
              "      <td>4.127261</td>\n",
              "      <td>...</td>\n",
              "      <td>5.834535</td>\n",
              "      <td>5.829429</td>\n",
              "      <td>5.819367</td>\n",
              "      <td>5.808598</td>\n",
              "      <td>5.805004</td>\n",
              "      <td>5.795422</td>\n",
              "      <td>5.788364</td>\n",
              "      <td>5.782004</td>\n",
              "      <td>5.774495</td>\n",
              "      <td>5.762997</td>\n",
              "      <td>5.759816</td>\n",
              "      <td>5.748388</td>\n",
              "      <td>5.738178</td>\n",
              "      <td>5.732934</td>\n",
              "      <td>5.727356</td>\n",
              "      <td>5.719351</td>\n",
              "      <td>5.712522</td>\n",
              "      <td>5.700483</td>\n",
              "      <td>5.695688</td>\n",
              "      <td>5.689802</td>\n",
              "      <td>5.677111</td>\n",
              "      <td>5.677042</td>\n",
              "      <td>5.667559</td>\n",
              "      <td>5.657750</td>\n",
              "      <td>5.644223</td>\n",
              "      <td>5.641706</td>\n",
              "      <td>5.633714</td>\n",
              "      <td>5.622899</td>\n",
              "      <td>5.618447</td>\n",
              "      <td>5.607667</td>\n",
              "      <td>5.600794</td>\n",
              "      <td>5.59444</td>\n",
              "      <td>5.589074</td>\n",
              "      <td>5.577601</td>\n",
              "      <td>5.570850</td>\n",
              "      <td>5.566060</td>\n",
              "      <td>5.556903</td>\n",
              "      <td>5.550234</td>\n",
              "      <td>5.54055</td>\n",
              "      <td>5.532609</td>\n",
              "    </tr>\n",
              "    <tr>\n",
              "      <th>min</th>\n",
              "      <td>23.400000</td>\n",
              "      <td>23.400000</td>\n",
              "      <td>23.400000</td>\n",
              "      <td>19.600000</td>\n",
              "      <td>23.400000</td>\n",
              "      <td>23.400000</td>\n",
              "      <td>23.400000</td>\n",
              "      <td>23.400000</td>\n",
              "      <td>12.500000</td>\n",
              "      <td>13.400000</td>\n",
              "      <td>23.400000</td>\n",
              "      <td>23.400000</td>\n",
              "      <td>23.00000</td>\n",
              "      <td>23.400000</td>\n",
              "      <td>23.400000</td>\n",
              "      <td>23.400000</td>\n",
              "      <td>23.400000</td>\n",
              "      <td>23.400000</td>\n",
              "      <td>5.500000</td>\n",
              "      <td>1.500000</td>\n",
              "      <td>6.500000</td>\n",
              "      <td>23.400000</td>\n",
              "      <td>23.400000</td>\n",
              "      <td>23.400000</td>\n",
              "      <td>23.400000</td>\n",
              "      <td>23.400000</td>\n",
              "      <td>23.400000</td>\n",
              "      <td>23.400000</td>\n",
              "      <td>23.400000</td>\n",
              "      <td>23.400000</td>\n",
              "      <td>23.400000</td>\n",
              "      <td>23.400000</td>\n",
              "      <td>23.000000</td>\n",
              "      <td>20.40000</td>\n",
              "      <td>23.400000</td>\n",
              "      <td>23.400000</td>\n",
              "      <td>23.400000</td>\n",
              "      <td>23.400000</td>\n",
              "      <td>23.400000</td>\n",
              "      <td>23.400000</td>\n",
              "      <td>...</td>\n",
              "      <td>63.200000</td>\n",
              "      <td>63.400000</td>\n",
              "      <td>63.500000</td>\n",
              "      <td>63.700000</td>\n",
              "      <td>63.800000</td>\n",
              "      <td>64.000000</td>\n",
              "      <td>64.100000</td>\n",
              "      <td>64.300000</td>\n",
              "      <td>64.400000</td>\n",
              "      <td>64.500000</td>\n",
              "      <td>64.700000</td>\n",
              "      <td>64.800000</td>\n",
              "      <td>64.900000</td>\n",
              "      <td>65.100000</td>\n",
              "      <td>65.200000</td>\n",
              "      <td>65.300000</td>\n",
              "      <td>65.500000</td>\n",
              "      <td>65.600000</td>\n",
              "      <td>65.700000</td>\n",
              "      <td>65.800000</td>\n",
              "      <td>66.000000</td>\n",
              "      <td>66.100000</td>\n",
              "      <td>66.200000</td>\n",
              "      <td>66.300000</td>\n",
              "      <td>66.500000</td>\n",
              "      <td>66.600000</td>\n",
              "      <td>66.700000</td>\n",
              "      <td>66.800000</td>\n",
              "      <td>66.900000</td>\n",
              "      <td>67.000000</td>\n",
              "      <td>67.100000</td>\n",
              "      <td>67.30000</td>\n",
              "      <td>67.400000</td>\n",
              "      <td>67.500000</td>\n",
              "      <td>67.600000</td>\n",
              "      <td>67.700000</td>\n",
              "      <td>67.800000</td>\n",
              "      <td>67.900000</td>\n",
              "      <td>68.00000</td>\n",
              "      <td>68.100000</td>\n",
              "    </tr>\n",
              "    <tr>\n",
              "      <th>25%</th>\n",
              "      <td>29.075000</td>\n",
              "      <td>28.975000</td>\n",
              "      <td>28.900000</td>\n",
              "      <td>28.900000</td>\n",
              "      <td>28.975000</td>\n",
              "      <td>29.075000</td>\n",
              "      <td>29.075000</td>\n",
              "      <td>29.075000</td>\n",
              "      <td>28.975000</td>\n",
              "      <td>28.875000</td>\n",
              "      <td>29.075000</td>\n",
              "      <td>29.075000</td>\n",
              "      <td>29.07500</td>\n",
              "      <td>29.075000</td>\n",
              "      <td>29.075000</td>\n",
              "      <td>29.075000</td>\n",
              "      <td>29.075000</td>\n",
              "      <td>29.075000</td>\n",
              "      <td>29.075000</td>\n",
              "      <td>29.075000</td>\n",
              "      <td>29.150000</td>\n",
              "      <td>29.150000</td>\n",
              "      <td>29.150000</td>\n",
              "      <td>29.150000</td>\n",
              "      <td>29.150000</td>\n",
              "      <td>29.150000</td>\n",
              "      <td>28.975000</td>\n",
              "      <td>28.975000</td>\n",
              "      <td>28.975000</td>\n",
              "      <td>29.150000</td>\n",
              "      <td>29.150000</td>\n",
              "      <td>29.150000</td>\n",
              "      <td>29.150000</td>\n",
              "      <td>29.15000</td>\n",
              "      <td>29.150000</td>\n",
              "      <td>28.975000</td>\n",
              "      <td>29.150000</td>\n",
              "      <td>28.975000</td>\n",
              "      <td>29.150000</td>\n",
              "      <td>28.975000</td>\n",
              "      <td>...</td>\n",
              "      <td>75.500000</td>\n",
              "      <td>75.600000</td>\n",
              "      <td>75.775000</td>\n",
              "      <td>75.900000</td>\n",
              "      <td>76.000000</td>\n",
              "      <td>76.175000</td>\n",
              "      <td>76.300000</td>\n",
              "      <td>76.400000</td>\n",
              "      <td>76.575000</td>\n",
              "      <td>76.700000</td>\n",
              "      <td>76.800000</td>\n",
              "      <td>77.000000</td>\n",
              "      <td>77.100000</td>\n",
              "      <td>77.275000</td>\n",
              "      <td>77.375000</td>\n",
              "      <td>77.575000</td>\n",
              "      <td>77.675000</td>\n",
              "      <td>77.775000</td>\n",
              "      <td>77.975000</td>\n",
              "      <td>78.075000</td>\n",
              "      <td>78.250000</td>\n",
              "      <td>78.375000</td>\n",
              "      <td>78.475000</td>\n",
              "      <td>78.650000</td>\n",
              "      <td>78.775000</td>\n",
              "      <td>78.875000</td>\n",
              "      <td>79.000000</td>\n",
              "      <td>79.175000</td>\n",
              "      <td>79.275000</td>\n",
              "      <td>79.400000</td>\n",
              "      <td>79.500000</td>\n",
              "      <td>79.70000</td>\n",
              "      <td>79.800000</td>\n",
              "      <td>79.900000</td>\n",
              "      <td>80.075000</td>\n",
              "      <td>80.200000</td>\n",
              "      <td>80.375000</td>\n",
              "      <td>80.475000</td>\n",
              "      <td>80.57500</td>\n",
              "      <td>80.775000</td>\n",
              "    </tr>\n",
              "    <tr>\n",
              "      <th>50%</th>\n",
              "      <td>31.750000</td>\n",
              "      <td>31.650000</td>\n",
              "      <td>31.550000</td>\n",
              "      <td>31.500000</td>\n",
              "      <td>31.550000</td>\n",
              "      <td>31.650000</td>\n",
              "      <td>31.750000</td>\n",
              "      <td>31.750000</td>\n",
              "      <td>31.550000</td>\n",
              "      <td>31.500000</td>\n",
              "      <td>31.750000</td>\n",
              "      <td>31.650000</td>\n",
              "      <td>31.70000</td>\n",
              "      <td>31.650000</td>\n",
              "      <td>31.650000</td>\n",
              "      <td>31.750000</td>\n",
              "      <td>31.650000</td>\n",
              "      <td>31.750000</td>\n",
              "      <td>31.750000</td>\n",
              "      <td>31.750000</td>\n",
              "      <td>31.750000</td>\n",
              "      <td>31.650000</td>\n",
              "      <td>31.800000</td>\n",
              "      <td>31.800000</td>\n",
              "      <td>31.800000</td>\n",
              "      <td>31.800000</td>\n",
              "      <td>31.750000</td>\n",
              "      <td>31.750000</td>\n",
              "      <td>31.750000</td>\n",
              "      <td>31.750000</td>\n",
              "      <td>31.850000</td>\n",
              "      <td>31.800000</td>\n",
              "      <td>31.750000</td>\n",
              "      <td>31.80000</td>\n",
              "      <td>31.800000</td>\n",
              "      <td>31.800000</td>\n",
              "      <td>31.650000</td>\n",
              "      <td>31.800000</td>\n",
              "      <td>31.850000</td>\n",
              "      <td>31.800000</td>\n",
              "      <td>...</td>\n",
              "      <td>80.550000</td>\n",
              "      <td>80.700000</td>\n",
              "      <td>80.850000</td>\n",
              "      <td>81.000000</td>\n",
              "      <td>81.150000</td>\n",
              "      <td>81.250000</td>\n",
              "      <td>81.400000</td>\n",
              "      <td>81.550000</td>\n",
              "      <td>81.650000</td>\n",
              "      <td>81.800000</td>\n",
              "      <td>81.950000</td>\n",
              "      <td>82.050000</td>\n",
              "      <td>82.200000</td>\n",
              "      <td>82.300000</td>\n",
              "      <td>82.500000</td>\n",
              "      <td>82.600000</td>\n",
              "      <td>82.700000</td>\n",
              "      <td>82.800000</td>\n",
              "      <td>82.950000</td>\n",
              "      <td>83.050000</td>\n",
              "      <td>83.150000</td>\n",
              "      <td>83.250000</td>\n",
              "      <td>83.350000</td>\n",
              "      <td>83.450000</td>\n",
              "      <td>83.550000</td>\n",
              "      <td>83.700000</td>\n",
              "      <td>83.800000</td>\n",
              "      <td>83.900000</td>\n",
              "      <td>84.000000</td>\n",
              "      <td>84.100000</td>\n",
              "      <td>84.200000</td>\n",
              "      <td>84.35000</td>\n",
              "      <td>84.450000</td>\n",
              "      <td>84.550000</td>\n",
              "      <td>84.650000</td>\n",
              "      <td>84.750000</td>\n",
              "      <td>84.850000</td>\n",
              "      <td>85.000000</td>\n",
              "      <td>85.15000</td>\n",
              "      <td>85.250000</td>\n",
              "    </tr>\n",
              "    <tr>\n",
              "      <th>75%</th>\n",
              "      <td>33.825000</td>\n",
              "      <td>33.900000</td>\n",
              "      <td>33.825000</td>\n",
              "      <td>33.625000</td>\n",
              "      <td>33.725000</td>\n",
              "      <td>33.825000</td>\n",
              "      <td>33.925000</td>\n",
              "      <td>33.925000</td>\n",
              "      <td>33.725000</td>\n",
              "      <td>33.625000</td>\n",
              "      <td>33.825000</td>\n",
              "      <td>33.825000</td>\n",
              "      <td>33.82500</td>\n",
              "      <td>33.725000</td>\n",
              "      <td>33.925000</td>\n",
              "      <td>34.000000</td>\n",
              "      <td>33.925000</td>\n",
              "      <td>34.000000</td>\n",
              "      <td>34.000000</td>\n",
              "      <td>34.000000</td>\n",
              "      <td>34.000000</td>\n",
              "      <td>33.925000</td>\n",
              "      <td>34.000000</td>\n",
              "      <td>34.000000</td>\n",
              "      <td>34.000000</td>\n",
              "      <td>34.000000</td>\n",
              "      <td>34.000000</td>\n",
              "      <td>34.000000</td>\n",
              "      <td>34.000000</td>\n",
              "      <td>34.000000</td>\n",
              "      <td>34.000000</td>\n",
              "      <td>34.000000</td>\n",
              "      <td>33.925000</td>\n",
              "      <td>34.00000</td>\n",
              "      <td>34.000000</td>\n",
              "      <td>34.000000</td>\n",
              "      <td>33.925000</td>\n",
              "      <td>34.000000</td>\n",
              "      <td>34.000000</td>\n",
              "      <td>34.000000</td>\n",
              "      <td>...</td>\n",
              "      <td>84.725000</td>\n",
              "      <td>84.825000</td>\n",
              "      <td>85.000000</td>\n",
              "      <td>85.100000</td>\n",
              "      <td>85.200000</td>\n",
              "      <td>85.300000</td>\n",
              "      <td>85.500000</td>\n",
              "      <td>85.600000</td>\n",
              "      <td>85.700000</td>\n",
              "      <td>85.800000</td>\n",
              "      <td>85.925000</td>\n",
              "      <td>86.025000</td>\n",
              "      <td>86.125000</td>\n",
              "      <td>86.300000</td>\n",
              "      <td>86.400000</td>\n",
              "      <td>86.500000</td>\n",
              "      <td>86.625000</td>\n",
              "      <td>86.725000</td>\n",
              "      <td>86.825000</td>\n",
              "      <td>86.925000</td>\n",
              "      <td>87.025000</td>\n",
              "      <td>87.125000</td>\n",
              "      <td>87.225000</td>\n",
              "      <td>87.325000</td>\n",
              "      <td>87.500000</td>\n",
              "      <td>87.525000</td>\n",
              "      <td>87.700000</td>\n",
              "      <td>87.800000</td>\n",
              "      <td>87.900000</td>\n",
              "      <td>88.000000</td>\n",
              "      <td>88.125000</td>\n",
              "      <td>88.22500</td>\n",
              "      <td>88.325000</td>\n",
              "      <td>88.500000</td>\n",
              "      <td>88.600000</td>\n",
              "      <td>88.700000</td>\n",
              "      <td>88.800000</td>\n",
              "      <td>88.900000</td>\n",
              "      <td>89.00000</td>\n",
              "      <td>89.100000</td>\n",
              "    </tr>\n",
              "    <tr>\n",
              "      <th>max</th>\n",
              "      <td>42.900000</td>\n",
              "      <td>40.300000</td>\n",
              "      <td>44.400000</td>\n",
              "      <td>44.800000</td>\n",
              "      <td>42.800000</td>\n",
              "      <td>44.300000</td>\n",
              "      <td>45.800000</td>\n",
              "      <td>43.600000</td>\n",
              "      <td>43.500000</td>\n",
              "      <td>41.700000</td>\n",
              "      <td>43.100000</td>\n",
              "      <td>40.100000</td>\n",
              "      <td>43.50000</td>\n",
              "      <td>43.000000</td>\n",
              "      <td>41.700000</td>\n",
              "      <td>45.600000</td>\n",
              "      <td>46.300000</td>\n",
              "      <td>48.900000</td>\n",
              "      <td>46.800000</td>\n",
              "      <td>45.800000</td>\n",
              "      <td>47.000000</td>\n",
              "      <td>44.700000</td>\n",
              "      <td>48.400000</td>\n",
              "      <td>48.800000</td>\n",
              "      <td>47.600000</td>\n",
              "      <td>49.200000</td>\n",
              "      <td>47.600000</td>\n",
              "      <td>48.400000</td>\n",
              "      <td>46.200000</td>\n",
              "      <td>46.300000</td>\n",
              "      <td>45.800000</td>\n",
              "      <td>45.700000</td>\n",
              "      <td>47.600000</td>\n",
              "      <td>44.90000</td>\n",
              "      <td>42.000000</td>\n",
              "      <td>47.100000</td>\n",
              "      <td>46.500000</td>\n",
              "      <td>44.200000</td>\n",
              "      <td>43.100000</td>\n",
              "      <td>43.000000</td>\n",
              "      <td>...</td>\n",
              "      <td>90.200000</td>\n",
              "      <td>90.300000</td>\n",
              "      <td>90.500000</td>\n",
              "      <td>90.600000</td>\n",
              "      <td>90.700000</td>\n",
              "      <td>90.800000</td>\n",
              "      <td>90.900000</td>\n",
              "      <td>91.000000</td>\n",
              "      <td>91.200000</td>\n",
              "      <td>91.300000</td>\n",
              "      <td>91.400000</td>\n",
              "      <td>91.500000</td>\n",
              "      <td>91.600000</td>\n",
              "      <td>91.700000</td>\n",
              "      <td>91.800000</td>\n",
              "      <td>92.000000</td>\n",
              "      <td>92.100000</td>\n",
              "      <td>92.200000</td>\n",
              "      <td>92.300000</td>\n",
              "      <td>92.400000</td>\n",
              "      <td>92.500000</td>\n",
              "      <td>92.700000</td>\n",
              "      <td>92.800000</td>\n",
              "      <td>92.900000</td>\n",
              "      <td>93.000000</td>\n",
              "      <td>93.100000</td>\n",
              "      <td>93.300000</td>\n",
              "      <td>93.400000</td>\n",
              "      <td>93.500000</td>\n",
              "      <td>93.600000</td>\n",
              "      <td>93.700000</td>\n",
              "      <td>93.90000</td>\n",
              "      <td>94.000000</td>\n",
              "      <td>94.100000</td>\n",
              "      <td>94.200000</td>\n",
              "      <td>94.300000</td>\n",
              "      <td>94.400000</td>\n",
              "      <td>94.500000</td>\n",
              "      <td>94.70000</td>\n",
              "      <td>94.800000</td>\n",
              "    </tr>\n",
              "  </tbody>\n",
              "</table>\n",
              "<p>8 rows × 301 columns</p>\n",
              "</div>"
            ],
            "text/plain": [
              "             1800        1801        1802  ...        2098       2099        2100\n",
              "count  184.000000  184.000000  184.000000  ...  184.000000  184.00000  184.000000\n",
              "mean    31.502717   31.461957   31.478804  ...   84.593478   84.71087   84.829891\n",
              "std      3.814689    3.806303    3.938674  ...    5.550234    5.54055    5.532609\n",
              "min     23.400000   23.400000   23.400000  ...   67.900000   68.00000   68.100000\n",
              "25%     29.075000   28.975000   28.900000  ...   80.475000   80.57500   80.775000\n",
              "50%     31.750000   31.650000   31.550000  ...   85.000000   85.15000   85.250000\n",
              "75%     33.825000   33.900000   33.825000  ...   88.900000   89.00000   89.100000\n",
              "max     42.900000   40.300000   44.400000  ...   94.500000   94.70000   94.800000\n",
              "\n",
              "[8 rows x 301 columns]"
            ]
          },
          "metadata": {
            "tags": []
          },
          "execution_count": 3
        }
      ]
    },
    {
      "cell_type": "code",
      "metadata": {
        "colab": {
          "base_uri": "https://localhost:8080/",
          "height": 146
        },
        "id": "0A0KiyxTGhkr",
        "outputId": "06300c20-9434-4483-8af5-dfc22053156d"
      },
      "source": [
        "condition = data['country'] == 'United States'\n",
        "data[condition]"
      ],
      "execution_count": null,
      "outputs": [
        {
          "output_type": "execute_result",
          "data": {
            "text/html": [
              "<div>\n",
              "<style scoped>\n",
              "    .dataframe tbody tr th:only-of-type {\n",
              "        vertical-align: middle;\n",
              "    }\n",
              "\n",
              "    .dataframe tbody tr th {\n",
              "        vertical-align: top;\n",
              "    }\n",
              "\n",
              "    .dataframe thead th {\n",
              "        text-align: right;\n",
              "    }\n",
              "</style>\n",
              "<table border=\"1\" class=\"dataframe\">\n",
              "  <thead>\n",
              "    <tr style=\"text-align: right;\">\n",
              "      <th></th>\n",
              "      <th>country</th>\n",
              "      <th>1800</th>\n",
              "      <th>1801</th>\n",
              "      <th>1802</th>\n",
              "      <th>1803</th>\n",
              "      <th>1804</th>\n",
              "      <th>1805</th>\n",
              "      <th>1806</th>\n",
              "      <th>1807</th>\n",
              "      <th>1808</th>\n",
              "      <th>1809</th>\n",
              "      <th>1810</th>\n",
              "      <th>1811</th>\n",
              "      <th>1812</th>\n",
              "      <th>1813</th>\n",
              "      <th>1814</th>\n",
              "      <th>1815</th>\n",
              "      <th>1816</th>\n",
              "      <th>1817</th>\n",
              "      <th>1818</th>\n",
              "      <th>1819</th>\n",
              "      <th>1820</th>\n",
              "      <th>1821</th>\n",
              "      <th>1822</th>\n",
              "      <th>1823</th>\n",
              "      <th>1824</th>\n",
              "      <th>1825</th>\n",
              "      <th>1826</th>\n",
              "      <th>1827</th>\n",
              "      <th>1828</th>\n",
              "      <th>1829</th>\n",
              "      <th>1830</th>\n",
              "      <th>1831</th>\n",
              "      <th>1832</th>\n",
              "      <th>1833</th>\n",
              "      <th>1834</th>\n",
              "      <th>1835</th>\n",
              "      <th>1836</th>\n",
              "      <th>1837</th>\n",
              "      <th>1838</th>\n",
              "      <th>...</th>\n",
              "      <th>2061</th>\n",
              "      <th>2062</th>\n",
              "      <th>2063</th>\n",
              "      <th>2064</th>\n",
              "      <th>2065</th>\n",
              "      <th>2066</th>\n",
              "      <th>2067</th>\n",
              "      <th>2068</th>\n",
              "      <th>2069</th>\n",
              "      <th>2070</th>\n",
              "      <th>2071</th>\n",
              "      <th>2072</th>\n",
              "      <th>2073</th>\n",
              "      <th>2074</th>\n",
              "      <th>2075</th>\n",
              "      <th>2076</th>\n",
              "      <th>2077</th>\n",
              "      <th>2078</th>\n",
              "      <th>2079</th>\n",
              "      <th>2080</th>\n",
              "      <th>2081</th>\n",
              "      <th>2082</th>\n",
              "      <th>2083</th>\n",
              "      <th>2084</th>\n",
              "      <th>2085</th>\n",
              "      <th>2086</th>\n",
              "      <th>2087</th>\n",
              "      <th>2088</th>\n",
              "      <th>2089</th>\n",
              "      <th>2090</th>\n",
              "      <th>2091</th>\n",
              "      <th>2092</th>\n",
              "      <th>2093</th>\n",
              "      <th>2094</th>\n",
              "      <th>2095</th>\n",
              "      <th>2096</th>\n",
              "      <th>2097</th>\n",
              "      <th>2098</th>\n",
              "      <th>2099</th>\n",
              "      <th>2100</th>\n",
              "    </tr>\n",
              "  </thead>\n",
              "  <tbody>\n",
              "    <tr>\n",
              "      <th>178</th>\n",
              "      <td>United States</td>\n",
              "      <td>39.4</td>\n",
              "      <td>39.4</td>\n",
              "      <td>39.4</td>\n",
              "      <td>39.4</td>\n",
              "      <td>39.4</td>\n",
              "      <td>39.4</td>\n",
              "      <td>39.4</td>\n",
              "      <td>39.4</td>\n",
              "      <td>39.4</td>\n",
              "      <td>39.4</td>\n",
              "      <td>39.4</td>\n",
              "      <td>39.4</td>\n",
              "      <td>39.4</td>\n",
              "      <td>39.4</td>\n",
              "      <td>39.4</td>\n",
              "      <td>39.4</td>\n",
              "      <td>39.4</td>\n",
              "      <td>39.4</td>\n",
              "      <td>39.4</td>\n",
              "      <td>39.4</td>\n",
              "      <td>39.4</td>\n",
              "      <td>39.4</td>\n",
              "      <td>39.4</td>\n",
              "      <td>39.4</td>\n",
              "      <td>39.4</td>\n",
              "      <td>39.4</td>\n",
              "      <td>39.4</td>\n",
              "      <td>39.4</td>\n",
              "      <td>39.4</td>\n",
              "      <td>39.4</td>\n",
              "      <td>39.4</td>\n",
              "      <td>39.4</td>\n",
              "      <td>39.4</td>\n",
              "      <td>39.4</td>\n",
              "      <td>39.4</td>\n",
              "      <td>39.4</td>\n",
              "      <td>39.4</td>\n",
              "      <td>39.4</td>\n",
              "      <td>39.4</td>\n",
              "      <td>...</td>\n",
              "      <td>84.5</td>\n",
              "      <td>84.6</td>\n",
              "      <td>84.7</td>\n",
              "      <td>84.8</td>\n",
              "      <td>84.9</td>\n",
              "      <td>85.0</td>\n",
              "      <td>85.2</td>\n",
              "      <td>85.3</td>\n",
              "      <td>85.4</td>\n",
              "      <td>85.5</td>\n",
              "      <td>85.6</td>\n",
              "      <td>85.7</td>\n",
              "      <td>85.8</td>\n",
              "      <td>85.9</td>\n",
              "      <td>86.0</td>\n",
              "      <td>86.1</td>\n",
              "      <td>86.2</td>\n",
              "      <td>86.3</td>\n",
              "      <td>86.4</td>\n",
              "      <td>86.5</td>\n",
              "      <td>86.6</td>\n",
              "      <td>86.7</td>\n",
              "      <td>86.8</td>\n",
              "      <td>86.9</td>\n",
              "      <td>87.0</td>\n",
              "      <td>87.1</td>\n",
              "      <td>87.2</td>\n",
              "      <td>87.3</td>\n",
              "      <td>87.4</td>\n",
              "      <td>87.5</td>\n",
              "      <td>87.6</td>\n",
              "      <td>87.7</td>\n",
              "      <td>87.8</td>\n",
              "      <td>87.9</td>\n",
              "      <td>88.0</td>\n",
              "      <td>88.1</td>\n",
              "      <td>88.2</td>\n",
              "      <td>88.3</td>\n",
              "      <td>88.4</td>\n",
              "      <td>88.5</td>\n",
              "    </tr>\n",
              "  </tbody>\n",
              "</table>\n",
              "<p>1 rows × 302 columns</p>\n",
              "</div>"
            ],
            "text/plain": [
              "           country  1800  1801  1802  1803  ...  2096  2097  2098  2099  2100\n",
              "178  United States  39.4  39.4  39.4  39.4  ...  88.1  88.2  88.3  88.4  88.5\n",
              "\n",
              "[1 rows x 302 columns]"
            ]
          },
          "metadata": {
            "tags": []
          },
          "execution_count": 5
        }
      ]
    },
    {
      "cell_type": "code",
      "metadata": {
        "colab": {
          "base_uri": "https://localhost:8080/"
        },
        "id": "ggWbKN1nG0LT",
        "outputId": "baa8337e-5895-423b-b38d-a23c25eeb5a7"
      },
      "source": [
        "us_life_expectancy = data.iloc[178][1:].values\n",
        "print(us_life_expectancy)"
      ],
      "execution_count": null,
      "outputs": [
        {
          "output_type": "stream",
          "text": [
            "[39.4 39.4 39.4 39.4 39.4 39.4 39.4 39.4 39.4 39.4 39.4 39.4 39.4 39.4\n",
            " 39.4 39.4 39.4 39.4 39.4 39.4 39.4 39.4 39.4 39.4 39.4 39.4 39.4 39.4\n",
            " 39.4 39.4 39.4 39.4 39.4 39.4 39.4 39.4 39.4 39.4 39.4 39.4 39.4 39.4\n",
            " 39.4 39.4 39.4 39.4 39.4 39.4 39.4 39.4 39.4 39.4 39.4 39.4 39.4 39.4\n",
            " 39.4 39.4 39.4 39.4 39.4 38.0 34.5 34.0 31.0 38.0 39.4 39.4 39.4 39.4\n",
            " 39.4 39.4 39.4 39.4 39.4 39.4 39.4 39.4 39.4 39.4 39.4 40.0 40.6 41.2\n",
            " 41.7 42.3 42.9 43.5 44.1 44.6 45.2 45.6 46.0 46.3 46.7 47.1 47.5 47.8\n",
            " 48.2 48.6 49.0 49.3 50.5 50.6 49.6 50.3 50.1 50.2 51.9 52.8 51.8 53.4\n",
            " 54.1 53.5 54.6 55.1 54.2 54.0 47.2 55.3 55.4 58.3 58.1 57.5 58.5 58.5\n",
            " 58.0 59.5 58.4 58.5 59.7 60.4 61.1 61.0 60.4 61.0 60.5 61.2 62.5 63.2\n",
            " 63.4 63.9 64.7 64.4 65.2 65.7 66.4 66.8 67.4 67.8 68.2 68.3 68.5 68.9\n",
            " 69.7 69.7 69.8 69.6 69.8 70.1 70.0 70.4 70.3 70.1 70.4 70.5 70.5 70.9\n",
            " 70.5 70.8 71.0 71.3 71.5 71.8 72.2 72.6 73.0 73.3 73.6 73.9 74.1 74.4\n",
            " 74.6 74.7 74.8 74.9 75.0 75.1 75.2 75.3 75.6 75.7 75.9 75.8 75.8 75.9\n",
            " 76.3 76.6 76.8 76.8 76.9 76.9 77.0 77.2 77.5 77.6 77.8 78.0 78.2 78.4\n",
            " 78.7 78.8 78.9 78.9 78.9 78.8 78.6 78.6 78.6 78.6 78.6 78.7 78.8 78.9\n",
            " 79.0 79.1 79.3 79.5 79.7 79.9 80.1 80.3 80.5 80.8 80.9 81.1 81.2 81.4\n",
            " 81.5 81.6 81.8 81.9 82.1 82.2 82.3 82.5 82.6 82.8 82.9 83.0 83.2 83.3\n",
            " 83.4 83.5 83.7 83.8 83.9 84.0 84.1 84.3 84.4 84.5 84.6 84.7 84.8 84.9\n",
            " 85.0 85.2 85.3 85.4 85.5 85.6 85.7 85.8 85.9 86.0 86.1 86.2 86.3 86.4\n",
            " 86.5 86.6 86.7 86.8 86.9 87.0 87.1 87.2 87.3 87.4 87.5 87.6 87.7 87.8\n",
            " 87.9 88.0 88.1 88.2 88.3 88.4 88.5]\n"
          ],
          "name": "stdout"
        }
      ]
    },
    {
      "cell_type": "code",
      "metadata": {
        "colab": {
          "base_uri": "https://localhost:8080/"
        },
        "id": "b5tSCMG-HzhX",
        "outputId": "74b11805-aa5e-4711-de39-a7b661775bac"
      },
      "source": [
        "int(data.columns[1:].min())"
      ],
      "execution_count": null,
      "outputs": [
        {
          "output_type": "execute_result",
          "data": {
            "text/plain": [
              "1800"
            ]
          },
          "metadata": {
            "tags": []
          },
          "execution_count": 11
        }
      ]
    },
    {
      "cell_type": "code",
      "metadata": {
        "colab": {
          "base_uri": "https://localhost:8080/"
        },
        "id": "6LrMLKCoH6dl",
        "outputId": "df583d5d-82a1-4d12-bcc3-babf3bcb522b"
      },
      "source": [
        "int(data.columns[1:].max())"
      ],
      "execution_count": null,
      "outputs": [
        {
          "output_type": "execute_result",
          "data": {
            "text/plain": [
              "2100"
            ]
          },
          "metadata": {
            "tags": []
          },
          "execution_count": 10
        }
      ]
    },
    {
      "cell_type": "code",
      "metadata": {
        "colab": {
          "base_uri": "https://localhost:8080/"
        },
        "id": "uuiv6dG2HOK8",
        "outputId": "aa409471-b9d6-48ac-d954-1a49abed8305"
      },
      "source": [
        "import numpy as np\n",
        "\n",
        "years = np.array(range(int(data.columns[1:].min()), int(data.columns[1:].max()) + 1))\n",
        "\n",
        "print(years)"
      ],
      "execution_count": null,
      "outputs": [
        {
          "output_type": "stream",
          "text": [
            "[1800 1801 1802 1803 1804 1805 1806 1807 1808 1809 1810 1811 1812 1813\n",
            " 1814 1815 1816 1817 1818 1819 1820 1821 1822 1823 1824 1825 1826 1827\n",
            " 1828 1829 1830 1831 1832 1833 1834 1835 1836 1837 1838 1839 1840 1841\n",
            " 1842 1843 1844 1845 1846 1847 1848 1849 1850 1851 1852 1853 1854 1855\n",
            " 1856 1857 1858 1859 1860 1861 1862 1863 1864 1865 1866 1867 1868 1869\n",
            " 1870 1871 1872 1873 1874 1875 1876 1877 1878 1879 1880 1881 1882 1883\n",
            " 1884 1885 1886 1887 1888 1889 1890 1891 1892 1893 1894 1895 1896 1897\n",
            " 1898 1899 1900 1901 1902 1903 1904 1905 1906 1907 1908 1909 1910 1911\n",
            " 1912 1913 1914 1915 1916 1917 1918 1919 1920 1921 1922 1923 1924 1925\n",
            " 1926 1927 1928 1929 1930 1931 1932 1933 1934 1935 1936 1937 1938 1939\n",
            " 1940 1941 1942 1943 1944 1945 1946 1947 1948 1949 1950 1951 1952 1953\n",
            " 1954 1955 1956 1957 1958 1959 1960 1961 1962 1963 1964 1965 1966 1967\n",
            " 1968 1969 1970 1971 1972 1973 1974 1975 1976 1977 1978 1979 1980 1981\n",
            " 1982 1983 1984 1985 1986 1987 1988 1989 1990 1991 1992 1993 1994 1995\n",
            " 1996 1997 1998 1999 2000 2001 2002 2003 2004 2005 2006 2007 2008 2009\n",
            " 2010 2011 2012 2013 2014 2015 2016 2017 2018 2019 2020 2021 2022 2023\n",
            " 2024 2025 2026 2027 2028 2029 2030 2031 2032 2033 2034 2035 2036 2037\n",
            " 2038 2039 2040 2041 2042 2043 2044 2045 2046 2047 2048 2049 2050 2051\n",
            " 2052 2053 2054 2055 2056 2057 2058 2059 2060 2061 2062 2063 2064 2065\n",
            " 2066 2067 2068 2069 2070 2071 2072 2073 2074 2075 2076 2077 2078 2079\n",
            " 2080 2081 2082 2083 2084 2085 2086 2087 2088 2089 2090 2091 2092 2093\n",
            " 2094 2095 2096 2097 2098 2099 2100]\n"
          ],
          "name": "stdout"
        }
      ]
    },
    {
      "cell_type": "code",
      "metadata": {
        "colab": {
          "base_uri": "https://localhost:8080/",
          "height": 265
        },
        "id": "LQSPTyOAIZf2",
        "outputId": "82b1921f-3fd7-4907-f79b-84e239808b3a"
      },
      "source": [
        "import matplotlib.pyplot as plt\n",
        "\n",
        "plt.plot(years, us_life_expectancy, 'b.')\n",
        "plt.show()"
      ],
      "execution_count": null,
      "outputs": [
        {
          "output_type": "display_data",
          "data": {
            "image/png": "[encoded data removed]",
            "text/plain": [
              "<Figure size 432x288 with 1 Axes>"
            ]
          },
          "metadata": {
            "tags": [],
            "needs_background": "light"
          }
        }
      ]
    },
    {
      "cell_type": "code",
      "metadata": {
        "colab": {
          "base_uri": "https://localhost:8080/",
          "height": 203
        },
        "id": "5QZ6W2hXLLR2",
        "outputId": "9d43032e-9c90-44bb-c79f-0614b340ea98"
      },
      "source": [
        "df = pd.DataFrame()\n",
        "df['Years'] = years\n",
        "df['Life Expectancy'] = us_life_expectancy\n",
        "df.head()"
      ],
      "execution_count": null,
      "outputs": [
        {
          "output_type": "execute_result",
          "data": {
            "text/html": [
              "<div>\n",
              "<style scoped>\n",
              "    .dataframe tbody tr th:only-of-type {\n",
              "        vertical-align: middle;\n",
              "    }\n",
              "\n",
              "    .dataframe tbody tr th {\n",
              "        vertical-align: top;\n",
              "    }\n",
              "\n",
              "    .dataframe thead th {\n",
              "        text-align: right;\n",
              "    }\n",
              "</style>\n",
              "<table border=\"1\" class=\"dataframe\">\n",
              "  <thead>\n",
              "    <tr style=\"text-align: right;\">\n",
              "      <th></th>\n",
              "      <th>Years</th>\n",
              "      <th>Life Expectancy</th>\n",
              "    </tr>\n",
              "  </thead>\n",
              "  <tbody>\n",
              "    <tr>\n",
              "      <th>0</th>\n",
              "      <td>1800</td>\n",
              "      <td>39.4</td>\n",
              "    </tr>\n",
              "    <tr>\n",
              "      <th>1</th>\n",
              "      <td>1801</td>\n",
              "      <td>39.4</td>\n",
              "    </tr>\n",
              "    <tr>\n",
              "      <th>2</th>\n",
              "      <td>1802</td>\n",
              "      <td>39.4</td>\n",
              "    </tr>\n",
              "    <tr>\n",
              "      <th>3</th>\n",
              "      <td>1803</td>\n",
              "      <td>39.4</td>\n",
              "    </tr>\n",
              "    <tr>\n",
              "      <th>4</th>\n",
              "      <td>1804</td>\n",
              "      <td>39.4</td>\n",
              "    </tr>\n",
              "  </tbody>\n",
              "</table>\n",
              "</div>"
            ],
            "text/plain": [
              "   Years Life Expectancy\n",
              "0   1800            39.4\n",
              "1   1801            39.4\n",
              "2   1802            39.4\n",
              "3   1803            39.4\n",
              "4   1804            39.4"
            ]
          },
          "metadata": {
            "tags": []
          },
          "execution_count": 18
        }
      ]
    },
    {
      "cell_type": "code",
      "metadata": {
        "id": "U0ef4PesImg5"
      },
      "source": [
        "# training: model latihan\n",
        "# testing: ujian\n",
        "\n",
        "from sklearn.model_selection import train_test_split\n",
        "\n",
        "X = df[['Years']] # features\n",
        "y = df['Life Expectancy'] # target value\n",
        "\n",
        "# 100 data poin\n",
        "# test_size=0.3, 70% data training, 30% data testing\n",
        "\n",
        "X_train, X_test, y_train, y_test = train_test_split(X, y, test_size=0.2, random_state=42)\n",
        "# X_train = soal latihan\n",
        "# X_test = soal ujian\n",
        "# y_train = jawaban soal latihan\n",
        "# y_test = jawaban soal ujian"
      ],
      "execution_count": null,
      "outputs": []
    },
    {
      "cell_type": "code",
      "metadata": {
        "colab": {
          "base_uri": "https://localhost:8080/"
        },
        "id": "JGhJJwtFMq82",
        "outputId": "5ae3e2e4-ad42-4ffb-b07f-33fb59b9b74d"
      },
      "source": [
        "print('Original Training Data: ', X.shape)\n",
        "print('Original Target Value: ', y.shape)\n",
        "\n",
        "print('Training Data: ', X_train.shape)\n",
        "print('Target Value (Training): ', y_train.shape)\n",
        "\n",
        "print('Testing Data: ', X_test.shape)\n",
        "print('Target Value (Testing): ', y_test.shape)"
      ],
      "execution_count": null,
      "outputs": [
        {
          "output_type": "stream",
          "text": [
            "Original Training Data:  (301, 1)\n",
            "Original Target Value:  (301,)\n",
            "Training Data:  (240, 1)\n",
            "Target Value (Training):  (240,)\n",
            "Testing Data:  (61, 1)\n",
            "Target Value (Testing):  (61,)\n"
          ],
          "name": "stdout"
        }
      ]
    },
    {
      "cell_type": "code",
      "metadata": {
        "colab": {
          "base_uri": "https://localhost:8080/",
          "height": 203
        },
        "id": "YN1kkwMtMuQP",
        "outputId": "d8a9c082-dd60-4ba2-816e-d07a351b9a19"
      },
      "source": [
        "X_train.head()"
      ],
      "execution_count": null,
      "outputs": [
        {
          "output_type": "execute_result",
          "data": {
            "text/html": [
              "<div>\n",
              "<style scoped>\n",
              "    .dataframe tbody tr th:only-of-type {\n",
              "        vertical-align: middle;\n",
              "    }\n",
              "\n",
              "    .dataframe tbody tr th {\n",
              "        vertical-align: top;\n",
              "    }\n",
              "\n",
              "    .dataframe thead th {\n",
              "        text-align: right;\n",
              "    }\n",
              "</style>\n",
              "<table border=\"1\" class=\"dataframe\">\n",
              "  <thead>\n",
              "    <tr style=\"text-align: right;\">\n",
              "      <th></th>\n",
              "      <th>Years</th>\n",
              "    </tr>\n",
              "  </thead>\n",
              "  <tbody>\n",
              "    <tr>\n",
              "      <th>184</th>\n",
              "      <td>1984</td>\n",
              "    </tr>\n",
              "    <tr>\n",
              "      <th>132</th>\n",
              "      <td>1932</td>\n",
              "    </tr>\n",
              "    <tr>\n",
              "      <th>194</th>\n",
              "      <td>1994</td>\n",
              "    </tr>\n",
              "    <tr>\n",
              "      <th>75</th>\n",
              "      <td>1875</td>\n",
              "    </tr>\n",
              "    <tr>\n",
              "      <th>111</th>\n",
              "      <td>1911</td>\n",
              "    </tr>\n",
              "  </tbody>\n",
              "</table>\n",
              "</div>"
            ],
            "text/plain": [
              "     Years\n",
              "184   1984\n",
              "132   1932\n",
              "194   1994\n",
              "75    1875\n",
              "111   1911"
            ]
          },
          "metadata": {
            "tags": []
          },
          "execution_count": 27
        }
      ]
    },
    {
      "cell_type": "code",
      "metadata": {
        "colab": {
          "base_uri": "https://localhost:8080/"
        },
        "id": "DHfT40upNNA1",
        "outputId": "17d4d1ab-1c74-4fbf-c636-bceeae9b23c6"
      },
      "source": [
        "y_train.head()"
      ],
      "execution_count": null,
      "outputs": [
        {
          "output_type": "execute_result",
          "data": {
            "text/plain": [
              "184    74.8\n",
              "132    61.1\n",
              "194    75.8\n",
              "75     39.4\n",
              "111    53.4\n",
              "Name: Life Expectancy, dtype: object"
            ]
          },
          "metadata": {
            "tags": []
          },
          "execution_count": 26
        }
      ]
    },
    {
      "cell_type": "code",
      "metadata": {
        "colab": {
          "base_uri": "https://localhost:8080/",
          "height": 203
        },
        "id": "KVkp-wGVNScM",
        "outputId": "4d50a5ed-e912-470b-837e-6b67bcbdafca"
      },
      "source": [
        "X_test.head()"
      ],
      "execution_count": null,
      "outputs": [
        {
          "output_type": "execute_result",
          "data": {
            "text/html": [
              "<div>\n",
              "<style scoped>\n",
              "    .dataframe tbody tr th:only-of-type {\n",
              "        vertical-align: middle;\n",
              "    }\n",
              "\n",
              "    .dataframe tbody tr th {\n",
              "        vertical-align: top;\n",
              "    }\n",
              "\n",
              "    .dataframe thead th {\n",
              "        text-align: right;\n",
              "    }\n",
              "</style>\n",
              "<table border=\"1\" class=\"dataframe\">\n",
              "  <thead>\n",
              "    <tr style=\"text-align: right;\">\n",
              "      <th></th>\n",
              "      <th>Years</th>\n",
              "    </tr>\n",
              "  </thead>\n",
              "  <tbody>\n",
              "    <tr>\n",
              "      <th>177</th>\n",
              "      <td>1977</td>\n",
              "    </tr>\n",
              "    <tr>\n",
              "      <th>289</th>\n",
              "      <td>2089</td>\n",
              "    </tr>\n",
              "    <tr>\n",
              "      <th>228</th>\n",
              "      <td>2028</td>\n",
              "    </tr>\n",
              "    <tr>\n",
              "      <th>198</th>\n",
              "      <td>1998</td>\n",
              "    </tr>\n",
              "    <tr>\n",
              "      <th>60</th>\n",
              "      <td>1860</td>\n",
              "    </tr>\n",
              "  </tbody>\n",
              "</table>\n",
              "</div>"
            ],
            "text/plain": [
              "     Years\n",
              "177   1977\n",
              "289   2089\n",
              "228   2028\n",
              "198   1998\n",
              "60    1860"
            ]
          },
          "metadata": {
            "tags": []
          },
          "execution_count": 28
        }
      ]
    },
    {
      "cell_type": "code",
      "metadata": {
        "colab": {
          "base_uri": "https://localhost:8080/"
        },
        "id": "KrsyV4wENfo5",
        "outputId": "c7dcc918-c1e4-4c7a-e82f-053ece171bfd"
      },
      "source": [
        "y_test.head()"
      ],
      "execution_count": null,
      "outputs": [
        {
          "output_type": "execute_result",
          "data": {
            "text/plain": [
              "177    73.3\n",
              "289    87.4\n",
              "228    79.7\n",
              "198    76.8\n",
              "60     39.4\n",
              "Name: Life Expectancy, dtype: object"
            ]
          },
          "metadata": {
            "tags": []
          },
          "execution_count": 29
        }
      ]
    },
    {
      "cell_type": "code",
      "metadata": {
        "colab": {
          "base_uri": "https://localhost:8080/"
        },
        "id": "EHI17V55Nh1H",
        "outputId": "11117679-5ec9-4268-83e6-a2fb3e837e85"
      },
      "source": [
        "from sklearn.linear_model import LinearRegression\n",
        "\n",
        "model = LinearRegression()\n",
        "# .fit() => latihan\n",
        "# .predict() => ujian\n",
        "\n",
        "model.fit(X_train, y_train)"
      ],
      "execution_count": null,
      "outputs": [
        {
          "output_type": "execute_result",
          "data": {
            "text/plain": [
              "LinearRegression(copy_X=True, fit_intercept=True, n_jobs=None, normalize=False)"
            ]
          },
          "metadata": {
            "tags": []
          },
          "execution_count": 30
        }
      ]
    },
    {
      "cell_type": "code",
      "metadata": {
        "colab": {
          "base_uri": "https://localhost:8080/"
        },
        "id": "Nzfkuj22OrpI",
        "outputId": "e5c2f773-584b-44b8-c3d0-9cd8a15e7642"
      },
      "source": [
        "# coefficient\n",
        "# intercept\n",
        "\n",
        "# y = mx + b\n",
        "# m -> slope / weight\n",
        "# x -> feature\n",
        "# b -> intercept / bias\n",
        "\n",
        "# y = m1*x1 + m2*x2 + ... + b\n",
        "\n",
        "model.coef_, model.intercept_"
      ],
      "execution_count": null,
      "outputs": [
        {
          "output_type": "execute_result",
          "data": {
            "text/plain": [
              "(array([0.20623809]), -339.16760189161175)"
            ]
          },
          "metadata": {
            "tags": []
          },
          "execution_count": 32
        }
      ]
    },
    {
      "cell_type": "code",
      "metadata": {
        "colab": {
          "base_uri": "https://localhost:8080/"
        },
        "id": "VPuOFn14PCxh",
        "outputId": "cd292b30-9b5e-4ee5-ba38-b07a0442bfb1"
      },
      "source": [
        "predictions = model.predict(X_test)\n",
        "predictions"
      ],
      "execution_count": null,
      "outputs": [
        {
          "output_type": "execute_result",
          "data": {
            "text/plain": [
              "array([68.5650942 , 91.66375983, 79.08323658, 72.896094  , 44.43523813,\n",
              "       33.91709574, 56.39704712, 63.82161822, 65.88399908, 38.86680981,\n",
              "       33.0921434 , 55.98457095, 41.34166684, 67.74014185, 79.49571276,\n",
              "       41.54790492, 57.63447564, 52.06604731, 64.64657056, 52.89099966,\n",
              "       66.70895142, 87.12652194, 81.55809362, 37.21690512, 61.75923736,\n",
              "       82.79552213, 83.82671256, 47.11633325, 54.54090435, 54.33466626,\n",
              "       60.31557075, 90.22009323, 65.67776099, 40.72295258, 35.56700043,\n",
              "       86.92028385, 47.73504751, 50.62238071, 37.01066703, 43.81652387,\n",
              "       51.03485688, 47.94128559, 91.86999792, 66.50271333, 33.50461957,\n",
              "       60.93428501, 89.60137897, 48.14752368, 83.2079983 , 79.28947467,\n",
              "       78.25828424, 53.50971391, 45.05395239, 48.97247602, 78.05204615,\n",
              "       88.77642663, 80.3206651 , 93.10742643, 90.01385514, 90.83880749,\n",
              "       69.59628463])"
            ]
          },
          "metadata": {
            "tags": []
          },
          "execution_count": 33
        }
      ]
    },
    {
      "cell_type": "code",
      "metadata": {
        "colab": {
          "base_uri": "https://localhost:8080/"
        },
        "id": "YSENF7tSPWS_",
        "outputId": "ab51ef8a-a607-4297-ce01-d93351fd8586"
      },
      "source": [
        "y_test"
      ],
      "execution_count": null,
      "outputs": [
        {
          "output_type": "execute_result",
          "data": {
            "text/plain": [
              "177    73.3\n",
              "289    87.4\n",
              "228    79.7\n",
              "198    76.8\n",
              "60     39.4\n",
              "       ... \n",
              "234    80.9\n",
              "296    88.1\n",
              "281    86.6\n",
              "285      87\n",
              "182    74.6\n",
              "Name: Life Expectancy, Length: 61, dtype: object"
            ]
          },
          "metadata": {
            "tags": []
          },
          "execution_count": 34
        }
      ]
    },
    {
      "cell_type": "code",
      "metadata": {
        "id": "qDq6HjP-Pd9T"
      },
      "source": [
        "from sklearn.metrics import mean_squared_error\n",
        "\n",
        "mse = mean_squared_error(y_test, predictions)\n",
        "rmse = mean_squared_error(y_test, predictions, squared=False)"
      ],
      "execution_count": null,
      "outputs": []
    },
    {
      "cell_type": "code",
      "metadata": {
        "colab": {
          "base_uri": "https://localhost:8080/"
        },
        "id": "Ff8tgkeJP0tb",
        "outputId": "2f33036e-9bf8-43cc-8dbe-be6bdf332832"
      },
      "source": [
        "print('Mean Squared Error (MSE): ', mse)\n",
        "print('Root Mean Squared Error (RMSE): ', rmse)"
      ],
      "execution_count": null,
      "outputs": [
        {
          "output_type": "stream",
          "text": [
            "Mean Squared Error (MSE):  19.947051071478732\n",
            "Root Mean Squared Error (RMSE):  4.466212161494204\n"
          ],
          "name": "stdout"
        }
      ]
    },
    {
      "cell_type": "code",
      "metadata": {
        "colab": {
          "base_uri": "https://localhost:8080/"
        },
        "id": "Qy8f_GrcVLjx",
        "outputId": "c3ea2ff9-8af8-41aa-b62c-cb7e5e25f8ca"
      },
      "source": [
        "df['Years'].max()"
      ],
      "execution_count": null,
      "outputs": [
        {
          "output_type": "execute_result",
          "data": {
            "text/plain": [
              "2100"
            ]
          },
          "metadata": {
            "tags": []
          },
          "execution_count": 40
        }
      ]
    },
    {
      "cell_type": "code",
      "metadata": {
        "colab": {
          "base_uri": "https://localhost:8080/",
          "height": 265
        },
        "id": "zQQ1Jbe8P3DX",
        "outputId": "584bdf76-b114-4912-de08-26b5b7e5de5f"
      },
      "source": [
        "import matplotlib.pyplot as plt\n",
        "\n",
        "x_line = [[df['Years'].min()], [df['Years'].max()]]\n",
        "y_line = model.predict(x_line) # prediksi 1800 dan 2100\n",
        "\n",
        "plt.plot(df['Years'], df['Life Expectancy'], 'b.')\n",
        "plt.plot(x_line, y_line, 'r-')\n",
        "plt.show()"
      ],
      "execution_count": null,
      "outputs": [
        {
          "output_type": "display_data",
          "data": {
            "image/png": "[encoded data removed]",
            "text/plain": [
              "<Figure size 432x288 with 1 Axes>"
            ]
          },
          "metadata": {
            "tags": [],
            "needs_background": "light"
          }
        }
      ]
    },
    {
      "cell_type": "markdown",
      "metadata": {
        "id": "XsetIFz2Wlw8"
      },
      "source": [
        "# Coefficient of Determination\n",
        "how much of the data is \"explained\" by the model."
      ]
    },
    {
      "cell_type": "markdown",
      "metadata": {
        "id": "2UxCORb_Xjr1"
      },
      "source": [
        "### Terminology\n",
        "* Residual: difference between target value and predicted value.\n",
        "* Residual Sum of Squares: summation of the square of every residual."
      ]
    },
    {
      "cell_type": "code",
      "metadata": {
        "colab": {
          "base_uri": "https://localhost:8080/"
        },
        "id": "wxR4SeeQYV0N",
        "outputId": "3fb74e9d-5873-4906-f722-81ce5c6b15cc"
      },
      "source": [
        "# SSres = sum (target - predicted)^2\n",
        "\n",
        "ss_res = ((y_test - predictions) ** 2).sum(axis=0)\n",
        "print(ss_res)\n",
        "type(ss_res)"
      ],
      "execution_count": null,
      "outputs": [
        {
          "output_type": "stream",
          "text": [
            "1216.7701153602027\n"
          ],
          "name": "stdout"
        },
        {
          "output_type": "execute_result",
          "data": {
            "text/plain": [
              "numpy.float64"
            ]
          },
          "metadata": {
            "tags": []
          },
          "execution_count": 70
        }
      ]
    },
    {
      "cell_type": "markdown",
      "metadata": {
        "id": "Y1wUiUm3ZKsF"
      },
      "source": [
        "* Total Sum of Squares"
      ]
    },
    {
      "cell_type": "code",
      "metadata": {
        "colab": {
          "base_uri": "https://localhost:8080/"
        },
        "id": "vxU-yRUFZ5Vo",
        "outputId": "0eff8455-6abe-47f8-9245-2f352949ab10"
      },
      "source": [
        "ss_tot = ((y_test-y_mean)**2).sum(axis=0)\n",
        "ss_tot"
      ],
      "execution_count": null,
      "outputs": [
        {
          "output_type": "execute_result",
          "data": {
            "text/plain": [
              "21624.357704918042"
            ]
          },
          "metadata": {
            "tags": []
          },
          "execution_count": 69
        }
      ]
    },
    {
      "cell_type": "code",
      "metadata": {
        "colab": {
          "base_uri": "https://localhost:8080/"
        },
        "id": "TpIERVJkZbCQ",
        "outputId": "008a29fa-3db6-4074-adee-dc40901d78f3"
      },
      "source": [
        "y_mean = np.average(y_test, axis=0)\n",
        "y_mean"
      ],
      "execution_count": null,
      "outputs": [
        {
          "output_type": "execute_result",
          "data": {
            "text/plain": [
              "62.13442622950821"
            ]
          },
          "metadata": {
            "tags": []
          },
          "execution_count": 59
        }
      ]
    },
    {
      "cell_type": "markdown",
      "metadata": {
        "id": "iaISrwmOa5v5"
      },
      "source": [
        "* R2 Score\n",
        "typically ranges from 0 to 1."
      ]
    },
    {
      "cell_type": "code",
      "metadata": {
        "colab": {
          "base_uri": "https://localhost:8080/"
        },
        "id": "X6jlccIHa781",
        "outputId": "e85fa009-105a-4dba-c0b4-e721c0dce6bf"
      },
      "source": [
        "# r2 = 1 - (ss_res/ss_tot)\n",
        "r2 = 1 - (ss_res/ss_tot)\n",
        "r2"
      ],
      "execution_count": null,
      "outputs": [
        {
          "output_type": "execute_result",
          "data": {
            "text/plain": [
              "0.9437315025970241"
            ]
          },
          "metadata": {
            "tags": []
          },
          "execution_count": 71
        }
      ]
    },
    {
      "cell_type": "code",
      "metadata": {
        "colab": {
          "base_uri": "https://localhost:8080/"
        },
        "id": "JYiv14_Qbhi3",
        "outputId": "5e43008a-1dec-44b8-bbf1-d96d33e01788"
      },
      "source": [
        "from sklearn.metrics import r2_score\n",
        "\n",
        "print(r2_score(y_test, predictions))"
      ],
      "execution_count": null,
      "outputs": [
        {
          "output_type": "stream",
          "text": [
            "0.9437315025970241\n"
          ],
          "name": "stdout"
        }
      ]
    },
    {
      "cell_type": "code",
      "metadata": {
        "colab": {
          "base_uri": "https://localhost:8080/"
        },
        "id": "JxM1AjoFbpV8",
        "outputId": "54537a98-ef69-4b4e-9c54-d85f6141343b"
      },
      "source": [
        "print(r2_score(y_test, y_test))"
      ],
      "execution_count": null,
      "outputs": [
        {
          "output_type": "stream",
          "text": [
            "1.0\n"
          ],
          "name": "stdout"
        }
      ]
    },
    {
      "cell_type": "code",
      "metadata": {
        "id": "_ON0Sfa5XoNC"
      },
      "source": [
        "predicted = 30, 40, 25, 20\n",
        "target = 35, 42, 28, 18\n",
        "\n",
        "residual = 5, 2, 3, 2\n",
        "residual^2 = 25, 4, 9, 4\n",
        "SSres = 25 + 4 + 9 + 4"
      ],
      "execution_count": null,
      "outputs": []
    }
  ]
}